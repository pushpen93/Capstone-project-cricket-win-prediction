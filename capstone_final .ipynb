{
 "cells": [
  {
   "cell_type": "code",
   "execution_count": 2,
   "id": "4cfba8f6",
   "metadata": {
    "scrolled": true
   },
   "outputs": [],
   "source": [
    "import pandas as pd\n",
    "import numpy as np\n",
    "import matplotlib.pyplot as plt\n",
    "import seaborn as sns\n",
    "%matplotlib inline"
   ]
  },
  {
   "cell_type": "code",
   "execution_count": 5,
   "id": "f62b1054",
   "metadata": {},
   "outputs": [
    {
     "data": {
      "text/html": [
       "<div>\n",
       "<style scoped>\n",
       "    .dataframe tbody tr th:only-of-type {\n",
       "        vertical-align: middle;\n",
       "    }\n",
       "\n",
       "    .dataframe tbody tr th {\n",
       "        vertical-align: top;\n",
       "    }\n",
       "\n",
       "    .dataframe thead th {\n",
       "        text-align: right;\n",
       "    }\n",
       "</style>\n",
       "<table border=\"1\" class=\"dataframe\">\n",
       "  <thead>\n",
       "    <tr style=\"text-align: right;\">\n",
       "      <th></th>\n",
       "      <th>Game_number</th>\n",
       "      <th>Result</th>\n",
       "      <th>Avg_team_Age</th>\n",
       "      <th>Match_light_type</th>\n",
       "      <th>Match_format</th>\n",
       "      <th>Bowlers_in_team</th>\n",
       "      <th>Wicket_keeper_in_team</th>\n",
       "      <th>All_rounder_in_team</th>\n",
       "      <th>First_selection</th>\n",
       "      <th>Opponent</th>\n",
       "      <th>...</th>\n",
       "      <th>Max_run_scored_1over</th>\n",
       "      <th>Max_wicket_taken_1over</th>\n",
       "      <th>Extra_bowls_bowled</th>\n",
       "      <th>Min_run_given_1over</th>\n",
       "      <th>Min_run_scored_1over</th>\n",
       "      <th>Max_run_given_1over</th>\n",
       "      <th>extra_bowls_opponent</th>\n",
       "      <th>player_highest_run</th>\n",
       "      <th>Players_scored_zero</th>\n",
       "      <th>player_highest_wicket</th>\n",
       "    </tr>\n",
       "  </thead>\n",
       "  <tbody>\n",
       "    <tr>\n",
       "      <th>0</th>\n",
       "      <td>Game_1</td>\n",
       "      <td>Loss</td>\n",
       "      <td>18.0</td>\n",
       "      <td>Day</td>\n",
       "      <td>ODI</td>\n",
       "      <td>3.0</td>\n",
       "      <td>1</td>\n",
       "      <td>3.0</td>\n",
       "      <td>Bowling</td>\n",
       "      <td>Srilanka</td>\n",
       "      <td>...</td>\n",
       "      <td>13.0</td>\n",
       "      <td>3</td>\n",
       "      <td>0.0</td>\n",
       "      <td>2</td>\n",
       "      <td>3.0</td>\n",
       "      <td>6.0</td>\n",
       "      <td>0</td>\n",
       "      <td>54.0</td>\n",
       "      <td>3</td>\n",
       "      <td>1</td>\n",
       "    </tr>\n",
       "    <tr>\n",
       "      <th>1</th>\n",
       "      <td>Game_2</td>\n",
       "      <td>Win</td>\n",
       "      <td>24.0</td>\n",
       "      <td>Day</td>\n",
       "      <td>T20</td>\n",
       "      <td>3.0</td>\n",
       "      <td>1</td>\n",
       "      <td>4.0</td>\n",
       "      <td>Batting</td>\n",
       "      <td>Zimbabwe</td>\n",
       "      <td>...</td>\n",
       "      <td>12.0</td>\n",
       "      <td>1</td>\n",
       "      <td>0.0</td>\n",
       "      <td>0</td>\n",
       "      <td>3.0</td>\n",
       "      <td>6.0</td>\n",
       "      <td>0</td>\n",
       "      <td>69.0</td>\n",
       "      <td>2</td>\n",
       "      <td>1</td>\n",
       "    </tr>\n",
       "    <tr>\n",
       "      <th>2</th>\n",
       "      <td>Game_3</td>\n",
       "      <td>Loss</td>\n",
       "      <td>24.0</td>\n",
       "      <td>Day and Night</td>\n",
       "      <td>T20</td>\n",
       "      <td>3.0</td>\n",
       "      <td>1</td>\n",
       "      <td>2.0</td>\n",
       "      <td>Bowling</td>\n",
       "      <td>Zimbabwe</td>\n",
       "      <td>...</td>\n",
       "      <td>14.0</td>\n",
       "      <td>4</td>\n",
       "      <td>0.0</td>\n",
       "      <td>0</td>\n",
       "      <td>3.0</td>\n",
       "      <td>6.0</td>\n",
       "      <td>0</td>\n",
       "      <td>69.0</td>\n",
       "      <td>3</td>\n",
       "      <td>1</td>\n",
       "    </tr>\n",
       "    <tr>\n",
       "      <th>3</th>\n",
       "      <td>Game_4</td>\n",
       "      <td>Win</td>\n",
       "      <td>24.0</td>\n",
       "      <td>NaN</td>\n",
       "      <td>ODI</td>\n",
       "      <td>2.0</td>\n",
       "      <td>1</td>\n",
       "      <td>2.0</td>\n",
       "      <td>Bowling</td>\n",
       "      <td>Kenya</td>\n",
       "      <td>...</td>\n",
       "      <td>15.0</td>\n",
       "      <td>4</td>\n",
       "      <td>0.0</td>\n",
       "      <td>2</td>\n",
       "      <td>3.0</td>\n",
       "      <td>6.0</td>\n",
       "      <td>0</td>\n",
       "      <td>73.0</td>\n",
       "      <td>3</td>\n",
       "      <td>1</td>\n",
       "    </tr>\n",
       "    <tr>\n",
       "      <th>4</th>\n",
       "      <td>Game_5</td>\n",
       "      <td>Loss</td>\n",
       "      <td>24.0</td>\n",
       "      <td>Night</td>\n",
       "      <td>ODI</td>\n",
       "      <td>1.0</td>\n",
       "      <td>1</td>\n",
       "      <td>3.0</td>\n",
       "      <td>Bowling</td>\n",
       "      <td>Srilanka</td>\n",
       "      <td>...</td>\n",
       "      <td>12.0</td>\n",
       "      <td>4</td>\n",
       "      <td>0.0</td>\n",
       "      <td>0</td>\n",
       "      <td>3.0</td>\n",
       "      <td>6.0</td>\n",
       "      <td>0</td>\n",
       "      <td>80.0</td>\n",
       "      <td>3</td>\n",
       "      <td>1</td>\n",
       "    </tr>\n",
       "  </tbody>\n",
       "</table>\n",
       "<p>5 rows × 23 columns</p>\n",
       "</div>"
      ],
      "text/plain": [
       "  Game_number Result  Avg_team_Age Match_light_type Match_format  \\\n",
       "0      Game_1   Loss          18.0              Day          ODI   \n",
       "1      Game_2    Win          24.0              Day          T20   \n",
       "2      Game_3   Loss          24.0    Day and Night          T20   \n",
       "3      Game_4    Win          24.0              NaN          ODI   \n",
       "4      Game_5   Loss          24.0            Night          ODI   \n",
       "\n",
       "   Bowlers_in_team  Wicket_keeper_in_team  All_rounder_in_team  \\\n",
       "0              3.0                      1                  3.0   \n",
       "1              3.0                      1                  4.0   \n",
       "2              3.0                      1                  2.0   \n",
       "3              2.0                      1                  2.0   \n",
       "4              1.0                      1                  3.0   \n",
       "\n",
       "  First_selection  Opponent  ... Max_run_scored_1over  Max_wicket_taken_1over  \\\n",
       "0         Bowling  Srilanka  ...                 13.0                       3   \n",
       "1         Batting  Zimbabwe  ...                 12.0                       1   \n",
       "2         Bowling  Zimbabwe  ...                 14.0                       4   \n",
       "3         Bowling     Kenya  ...                 15.0                       4   \n",
       "4         Bowling  Srilanka  ...                 12.0                       4   \n",
       "\n",
       "  Extra_bowls_bowled  Min_run_given_1over  Min_run_scored_1over  \\\n",
       "0                0.0                    2                   3.0   \n",
       "1                0.0                    0                   3.0   \n",
       "2                0.0                    0                   3.0   \n",
       "3                0.0                    2                   3.0   \n",
       "4                0.0                    0                   3.0   \n",
       "\n",
       "   Max_run_given_1over  extra_bowls_opponent  player_highest_run  \\\n",
       "0                  6.0                     0                54.0   \n",
       "1                  6.0                     0                69.0   \n",
       "2                  6.0                     0                69.0   \n",
       "3                  6.0                     0                73.0   \n",
       "4                  6.0                     0                80.0   \n",
       "\n",
       "   Players_scored_zero  player_highest_wicket  \n",
       "0                    3                      1  \n",
       "1                    2                      1  \n",
       "2                    3                      1  \n",
       "3                    3                      1  \n",
       "4                    3                      1  \n",
       "\n",
       "[5 rows x 23 columns]"
      ]
     },
     "execution_count": 5,
     "metadata": {},
     "output_type": "execute_result"
    }
   ],
   "source": [
    "match_data= pd.read_excel(\"Sports Data (1).xlsx\",sheet_name=\"Sports data for DSBA\")\n",
    "match_data.head()"
   ]
  },
  {
   "cell_type": "code",
   "execution_count": 6,
   "id": "4fa3db15",
   "metadata": {},
   "outputs": [],
   "source": [
    "pd.options.display.max_columns= None"
   ]
  },
  {
   "cell_type": "code",
   "execution_count": 7,
   "id": "b40bab68",
   "metadata": {},
   "outputs": [
    {
     "data": {
      "text/html": [
       "<div>\n",
       "<style scoped>\n",
       "    .dataframe tbody tr th:only-of-type {\n",
       "        vertical-align: middle;\n",
       "    }\n",
       "\n",
       "    .dataframe tbody tr th {\n",
       "        vertical-align: top;\n",
       "    }\n",
       "\n",
       "    .dataframe thead th {\n",
       "        text-align: right;\n",
       "    }\n",
       "</style>\n",
       "<table border=\"1\" class=\"dataframe\">\n",
       "  <thead>\n",
       "    <tr style=\"text-align: right;\">\n",
       "      <th></th>\n",
       "      <th>Game_number</th>\n",
       "      <th>Result</th>\n",
       "      <th>Avg_team_Age</th>\n",
       "      <th>Match_light_type</th>\n",
       "      <th>Match_format</th>\n",
       "      <th>Bowlers_in_team</th>\n",
       "      <th>Wicket_keeper_in_team</th>\n",
       "      <th>All_rounder_in_team</th>\n",
       "      <th>First_selection</th>\n",
       "      <th>Opponent</th>\n",
       "      <th>Season</th>\n",
       "      <th>Audience_number</th>\n",
       "      <th>Offshore</th>\n",
       "      <th>Max_run_scored_1over</th>\n",
       "      <th>Max_wicket_taken_1over</th>\n",
       "      <th>Extra_bowls_bowled</th>\n",
       "      <th>Min_run_given_1over</th>\n",
       "      <th>Min_run_scored_1over</th>\n",
       "      <th>Max_run_given_1over</th>\n",
       "      <th>extra_bowls_opponent</th>\n",
       "      <th>player_highest_run</th>\n",
       "      <th>Players_scored_zero</th>\n",
       "      <th>player_highest_wicket</th>\n",
       "    </tr>\n",
       "  </thead>\n",
       "  <tbody>\n",
       "    <tr>\n",
       "      <th>0</th>\n",
       "      <td>Game_1</td>\n",
       "      <td>Loss</td>\n",
       "      <td>18.0</td>\n",
       "      <td>Day</td>\n",
       "      <td>ODI</td>\n",
       "      <td>3.0</td>\n",
       "      <td>1</td>\n",
       "      <td>3.0</td>\n",
       "      <td>Bowling</td>\n",
       "      <td>Srilanka</td>\n",
       "      <td>Summer</td>\n",
       "      <td>9940.0</td>\n",
       "      <td>No</td>\n",
       "      <td>13.0</td>\n",
       "      <td>3</td>\n",
       "      <td>0.0</td>\n",
       "      <td>2</td>\n",
       "      <td>3.0</td>\n",
       "      <td>6.0</td>\n",
       "      <td>0</td>\n",
       "      <td>54.0</td>\n",
       "      <td>3</td>\n",
       "      <td>1</td>\n",
       "    </tr>\n",
       "    <tr>\n",
       "      <th>1</th>\n",
       "      <td>Game_2</td>\n",
       "      <td>Win</td>\n",
       "      <td>24.0</td>\n",
       "      <td>Day</td>\n",
       "      <td>T20</td>\n",
       "      <td>3.0</td>\n",
       "      <td>1</td>\n",
       "      <td>4.0</td>\n",
       "      <td>Batting</td>\n",
       "      <td>Zimbabwe</td>\n",
       "      <td>Summer</td>\n",
       "      <td>8400.0</td>\n",
       "      <td>No</td>\n",
       "      <td>12.0</td>\n",
       "      <td>1</td>\n",
       "      <td>0.0</td>\n",
       "      <td>0</td>\n",
       "      <td>3.0</td>\n",
       "      <td>6.0</td>\n",
       "      <td>0</td>\n",
       "      <td>69.0</td>\n",
       "      <td>2</td>\n",
       "      <td>1</td>\n",
       "    </tr>\n",
       "    <tr>\n",
       "      <th>2</th>\n",
       "      <td>Game_3</td>\n",
       "      <td>Loss</td>\n",
       "      <td>24.0</td>\n",
       "      <td>Day and Night</td>\n",
       "      <td>T20</td>\n",
       "      <td>3.0</td>\n",
       "      <td>1</td>\n",
       "      <td>2.0</td>\n",
       "      <td>Bowling</td>\n",
       "      <td>Zimbabwe</td>\n",
       "      <td>NaN</td>\n",
       "      <td>13146.0</td>\n",
       "      <td>Yes</td>\n",
       "      <td>14.0</td>\n",
       "      <td>4</td>\n",
       "      <td>0.0</td>\n",
       "      <td>0</td>\n",
       "      <td>3.0</td>\n",
       "      <td>6.0</td>\n",
       "      <td>0</td>\n",
       "      <td>69.0</td>\n",
       "      <td>3</td>\n",
       "      <td>1</td>\n",
       "    </tr>\n",
       "    <tr>\n",
       "      <th>3</th>\n",
       "      <td>Game_4</td>\n",
       "      <td>Win</td>\n",
       "      <td>24.0</td>\n",
       "      <td>NaN</td>\n",
       "      <td>ODI</td>\n",
       "      <td>2.0</td>\n",
       "      <td>1</td>\n",
       "      <td>2.0</td>\n",
       "      <td>Bowling</td>\n",
       "      <td>Kenya</td>\n",
       "      <td>Summer</td>\n",
       "      <td>7357.0</td>\n",
       "      <td>No</td>\n",
       "      <td>15.0</td>\n",
       "      <td>4</td>\n",
       "      <td>0.0</td>\n",
       "      <td>2</td>\n",
       "      <td>3.0</td>\n",
       "      <td>6.0</td>\n",
       "      <td>0</td>\n",
       "      <td>73.0</td>\n",
       "      <td>3</td>\n",
       "      <td>1</td>\n",
       "    </tr>\n",
       "    <tr>\n",
       "      <th>4</th>\n",
       "      <td>Game_5</td>\n",
       "      <td>Loss</td>\n",
       "      <td>24.0</td>\n",
       "      <td>Night</td>\n",
       "      <td>ODI</td>\n",
       "      <td>1.0</td>\n",
       "      <td>1</td>\n",
       "      <td>3.0</td>\n",
       "      <td>Bowling</td>\n",
       "      <td>Srilanka</td>\n",
       "      <td>Summer</td>\n",
       "      <td>13328.0</td>\n",
       "      <td>No</td>\n",
       "      <td>12.0</td>\n",
       "      <td>4</td>\n",
       "      <td>0.0</td>\n",
       "      <td>0</td>\n",
       "      <td>3.0</td>\n",
       "      <td>6.0</td>\n",
       "      <td>0</td>\n",
       "      <td>80.0</td>\n",
       "      <td>3</td>\n",
       "      <td>1</td>\n",
       "    </tr>\n",
       "  </tbody>\n",
       "</table>\n",
       "</div>"
      ],
      "text/plain": [
       "  Game_number Result  Avg_team_Age Match_light_type Match_format  \\\n",
       "0      Game_1   Loss          18.0              Day          ODI   \n",
       "1      Game_2    Win          24.0              Day          T20   \n",
       "2      Game_3   Loss          24.0    Day and Night          T20   \n",
       "3      Game_4    Win          24.0              NaN          ODI   \n",
       "4      Game_5   Loss          24.0            Night          ODI   \n",
       "\n",
       "   Bowlers_in_team  Wicket_keeper_in_team  All_rounder_in_team  \\\n",
       "0              3.0                      1                  3.0   \n",
       "1              3.0                      1                  4.0   \n",
       "2              3.0                      1                  2.0   \n",
       "3              2.0                      1                  2.0   \n",
       "4              1.0                      1                  3.0   \n",
       "\n",
       "  First_selection  Opponent  Season  Audience_number Offshore  \\\n",
       "0         Bowling  Srilanka  Summer           9940.0       No   \n",
       "1         Batting  Zimbabwe  Summer           8400.0       No   \n",
       "2         Bowling  Zimbabwe     NaN          13146.0      Yes   \n",
       "3         Bowling     Kenya  Summer           7357.0       No   \n",
       "4         Bowling  Srilanka  Summer          13328.0       No   \n",
       "\n",
       "   Max_run_scored_1over  Max_wicket_taken_1over  Extra_bowls_bowled  \\\n",
       "0                  13.0                       3                 0.0   \n",
       "1                  12.0                       1                 0.0   \n",
       "2                  14.0                       4                 0.0   \n",
       "3                  15.0                       4                 0.0   \n",
       "4                  12.0                       4                 0.0   \n",
       "\n",
       "   Min_run_given_1over  Min_run_scored_1over  Max_run_given_1over  \\\n",
       "0                    2                   3.0                  6.0   \n",
       "1                    0                   3.0                  6.0   \n",
       "2                    0                   3.0                  6.0   \n",
       "3                    2                   3.0                  6.0   \n",
       "4                    0                   3.0                  6.0   \n",
       "\n",
       "   extra_bowls_opponent  player_highest_run Players_scored_zero  \\\n",
       "0                     0                54.0                   3   \n",
       "1                     0                69.0                   2   \n",
       "2                     0                69.0                   3   \n",
       "3                     0                73.0                   3   \n",
       "4                     0                80.0                   3   \n",
       "\n",
       "  player_highest_wicket  \n",
       "0                     1  \n",
       "1                     1  \n",
       "2                     1  \n",
       "3                     1  \n",
       "4                     1  "
      ]
     },
     "execution_count": 7,
     "metadata": {},
     "output_type": "execute_result"
    }
   ],
   "source": [
    "match_data.head()"
   ]
  },
  {
   "cell_type": "code",
   "execution_count": 94,
   "id": "80adbc5e",
   "metadata": {},
   "outputs": [
    {
     "data": {
      "text/html": [
       "<div>\n",
       "<style scoped>\n",
       "    .dataframe tbody tr th:only-of-type {\n",
       "        vertical-align: middle;\n",
       "    }\n",
       "\n",
       "    .dataframe tbody tr th {\n",
       "        vertical-align: top;\n",
       "    }\n",
       "\n",
       "    .dataframe thead th {\n",
       "        text-align: right;\n",
       "    }\n",
       "</style>\n",
       "<table border=\"1\" class=\"dataframe\">\n",
       "  <thead>\n",
       "    <tr style=\"text-align: right;\">\n",
       "      <th></th>\n",
       "      <th>count</th>\n",
       "      <th>unique</th>\n",
       "      <th>top</th>\n",
       "      <th>freq</th>\n",
       "      <th>mean</th>\n",
       "      <th>std</th>\n",
       "      <th>min</th>\n",
       "      <th>25%</th>\n",
       "      <th>50%</th>\n",
       "      <th>75%</th>\n",
       "      <th>max</th>\n",
       "    </tr>\n",
       "  </thead>\n",
       "  <tbody>\n",
       "    <tr>\n",
       "      <th>Result</th>\n",
       "      <td>2930</td>\n",
       "      <td>2</td>\n",
       "      <td>Win</td>\n",
       "      <td>2457</td>\n",
       "      <td>NaN</td>\n",
       "      <td>NaN</td>\n",
       "      <td>NaN</td>\n",
       "      <td>NaN</td>\n",
       "      <td>NaN</td>\n",
       "      <td>NaN</td>\n",
       "      <td>NaN</td>\n",
       "    </tr>\n",
       "    <tr>\n",
       "      <th>Avg_team_Age</th>\n",
       "      <td>2930.0</td>\n",
       "      <td>NaN</td>\n",
       "      <td>NaN</td>\n",
       "      <td>NaN</td>\n",
       "      <td>29.267918</td>\n",
       "      <td>2.23054</td>\n",
       "      <td>12.0</td>\n",
       "      <td>30.0</td>\n",
       "      <td>30.0</td>\n",
       "      <td>30.0</td>\n",
       "      <td>70.0</td>\n",
       "    </tr>\n",
       "    <tr>\n",
       "      <th>Match_light_type</th>\n",
       "      <td>2878</td>\n",
       "      <td>3</td>\n",
       "      <td>Day</td>\n",
       "      <td>2041</td>\n",
       "      <td>NaN</td>\n",
       "      <td>NaN</td>\n",
       "      <td>NaN</td>\n",
       "      <td>NaN</td>\n",
       "      <td>NaN</td>\n",
       "      <td>NaN</td>\n",
       "      <td>NaN</td>\n",
       "    </tr>\n",
       "    <tr>\n",
       "      <th>Match_format</th>\n",
       "      <td>2860</td>\n",
       "      <td>4</td>\n",
       "      <td>ODI</td>\n",
       "      <td>1865</td>\n",
       "      <td>NaN</td>\n",
       "      <td>NaN</td>\n",
       "      <td>NaN</td>\n",
       "      <td>NaN</td>\n",
       "      <td>NaN</td>\n",
       "      <td>NaN</td>\n",
       "      <td>NaN</td>\n",
       "    </tr>\n",
       "    <tr>\n",
       "      <th>Bowlers_in_team</th>\n",
       "      <td>2930.0</td>\n",
       "      <td>NaN</td>\n",
       "      <td>NaN</td>\n",
       "      <td>NaN</td>\n",
       "      <td>2.916041</td>\n",
       "      <td>1.009573</td>\n",
       "      <td>1.0</td>\n",
       "      <td>2.0</td>\n",
       "      <td>3.0</td>\n",
       "      <td>4.0</td>\n",
       "      <td>5.0</td>\n",
       "    </tr>\n",
       "    <tr>\n",
       "      <th>All_rounder_in_team</th>\n",
       "      <td>2930.0</td>\n",
       "      <td>NaN</td>\n",
       "      <td>NaN</td>\n",
       "      <td>NaN</td>\n",
       "      <td>2.72628</td>\n",
       "      <td>1.08569</td>\n",
       "      <td>1.0</td>\n",
       "      <td>2.0</td>\n",
       "      <td>3.0</td>\n",
       "      <td>4.0</td>\n",
       "      <td>4.0</td>\n",
       "    </tr>\n",
       "    <tr>\n",
       "      <th>First_selection</th>\n",
       "      <td>2871</td>\n",
       "      <td>3</td>\n",
       "      <td>Bowling</td>\n",
       "      <td>1722</td>\n",
       "      <td>NaN</td>\n",
       "      <td>NaN</td>\n",
       "      <td>NaN</td>\n",
       "      <td>NaN</td>\n",
       "      <td>NaN</td>\n",
       "      <td>NaN</td>\n",
       "      <td>NaN</td>\n",
       "    </tr>\n",
       "    <tr>\n",
       "      <th>Opponent</th>\n",
       "      <td>2894</td>\n",
       "      <td>9</td>\n",
       "      <td>South Africa</td>\n",
       "      <td>640</td>\n",
       "      <td>NaN</td>\n",
       "      <td>NaN</td>\n",
       "      <td>NaN</td>\n",
       "      <td>NaN</td>\n",
       "      <td>NaN</td>\n",
       "      <td>NaN</td>\n",
       "      <td>NaN</td>\n",
       "    </tr>\n",
       "    <tr>\n",
       "      <th>Season</th>\n",
       "      <td>2868</td>\n",
       "      <td>3</td>\n",
       "      <td>Rainy</td>\n",
       "      <td>1309</td>\n",
       "      <td>NaN</td>\n",
       "      <td>NaN</td>\n",
       "      <td>NaN</td>\n",
       "      <td>NaN</td>\n",
       "      <td>NaN</td>\n",
       "      <td>NaN</td>\n",
       "      <td>NaN</td>\n",
       "    </tr>\n",
       "    <tr>\n",
       "      <th>Audience_number</th>\n",
       "      <td>2930.0</td>\n",
       "      <td>NaN</td>\n",
       "      <td>NaN</td>\n",
       "      <td>NaN</td>\n",
       "      <td>45938.46041</td>\n",
       "      <td>47962.711339</td>\n",
       "      <td>7063.0</td>\n",
       "      <td>20608.0</td>\n",
       "      <td>34349.0</td>\n",
       "      <td>55931.75</td>\n",
       "      <td>1399930.0</td>\n",
       "    </tr>\n",
       "    <tr>\n",
       "      <th>Offshore</th>\n",
       "      <td>2866</td>\n",
       "      <td>2</td>\n",
       "      <td>No</td>\n",
       "      <td>2057</td>\n",
       "      <td>NaN</td>\n",
       "      <td>NaN</td>\n",
       "      <td>NaN</td>\n",
       "      <td>NaN</td>\n",
       "      <td>NaN</td>\n",
       "      <td>NaN</td>\n",
       "      <td>NaN</td>\n",
       "    </tr>\n",
       "    <tr>\n",
       "      <th>Max_run_scored_1over</th>\n",
       "      <td>2930.0</td>\n",
       "      <td>NaN</td>\n",
       "      <td>NaN</td>\n",
       "      <td>NaN</td>\n",
       "      <td>15.188396</td>\n",
       "      <td>3.645339</td>\n",
       "      <td>11.0</td>\n",
       "      <td>12.0</td>\n",
       "      <td>14.0</td>\n",
       "      <td>18.0</td>\n",
       "      <td>25.0</td>\n",
       "    </tr>\n",
       "    <tr>\n",
       "      <th>Max_wicket_taken_1over</th>\n",
       "      <td>2930.0</td>\n",
       "      <td>NaN</td>\n",
       "      <td>NaN</td>\n",
       "      <td>NaN</td>\n",
       "      <td>2.713993</td>\n",
       "      <td>1.080623</td>\n",
       "      <td>1.0</td>\n",
       "      <td>2.0</td>\n",
       "      <td>3.0</td>\n",
       "      <td>4.0</td>\n",
       "      <td>4.0</td>\n",
       "    </tr>\n",
       "    <tr>\n",
       "      <th>Extra_bowls_bowled</th>\n",
       "      <td>2930.0</td>\n",
       "      <td>NaN</td>\n",
       "      <td>NaN</td>\n",
       "      <td>NaN</td>\n",
       "      <td>11.240273</td>\n",
       "      <td>7.743208</td>\n",
       "      <td>0.0</td>\n",
       "      <td>6.0</td>\n",
       "      <td>10.0</td>\n",
       "      <td>15.0</td>\n",
       "      <td>40.0</td>\n",
       "    </tr>\n",
       "    <tr>\n",
       "      <th>Min_run_given_1over</th>\n",
       "      <td>2930.0</td>\n",
       "      <td>NaN</td>\n",
       "      <td>NaN</td>\n",
       "      <td>NaN</td>\n",
       "      <td>1.95256</td>\n",
       "      <td>1.678332</td>\n",
       "      <td>0.0</td>\n",
       "      <td>0.0</td>\n",
       "      <td>2.0</td>\n",
       "      <td>3.0</td>\n",
       "      <td>6.0</td>\n",
       "    </tr>\n",
       "    <tr>\n",
       "      <th>Min_run_scored_1over</th>\n",
       "      <td>2930.0</td>\n",
       "      <td>NaN</td>\n",
       "      <td>NaN</td>\n",
       "      <td>NaN</td>\n",
       "      <td>2.764846</td>\n",
       "      <td>0.702864</td>\n",
       "      <td>1.0</td>\n",
       "      <td>2.0</td>\n",
       "      <td>3.0</td>\n",
       "      <td>3.0</td>\n",
       "      <td>4.0</td>\n",
       "    </tr>\n",
       "    <tr>\n",
       "      <th>Max_run_given_1over</th>\n",
       "      <td>2930.0</td>\n",
       "      <td>NaN</td>\n",
       "      <td>NaN</td>\n",
       "      <td>NaN</td>\n",
       "      <td>8.638225</td>\n",
       "      <td>4.98261</td>\n",
       "      <td>6.0</td>\n",
       "      <td>6.0</td>\n",
       "      <td>6.0</td>\n",
       "      <td>9.0</td>\n",
       "      <td>40.0</td>\n",
       "    </tr>\n",
       "    <tr>\n",
       "      <th>extra_bowls_opponent</th>\n",
       "      <td>2930.0</td>\n",
       "      <td>NaN</td>\n",
       "      <td>NaN</td>\n",
       "      <td>NaN</td>\n",
       "      <td>4.229693</td>\n",
       "      <td>3.626108</td>\n",
       "      <td>0.0</td>\n",
       "      <td>2.0</td>\n",
       "      <td>3.0</td>\n",
       "      <td>7.0</td>\n",
       "      <td>18.0</td>\n",
       "    </tr>\n",
       "    <tr>\n",
       "      <th>player_highest_run</th>\n",
       "      <td>2930.0</td>\n",
       "      <td>NaN</td>\n",
       "      <td>NaN</td>\n",
       "      <td>NaN</td>\n",
       "      <td>65.890444</td>\n",
       "      <td>20.234203</td>\n",
       "      <td>30.0</td>\n",
       "      <td>48.0</td>\n",
       "      <td>66.0</td>\n",
       "      <td>83.0</td>\n",
       "      <td>100.0</td>\n",
       "    </tr>\n",
       "    <tr>\n",
       "      <th>Players_scored_zero</th>\n",
       "      <td>2930.0</td>\n",
       "      <td>NaN</td>\n",
       "      <td>NaN</td>\n",
       "      <td>NaN</td>\n",
       "      <td>2.730034</td>\n",
       "      <td>0.710708</td>\n",
       "      <td>1.0</td>\n",
       "      <td>2.0</td>\n",
       "      <td>3.0</td>\n",
       "      <td>3.0</td>\n",
       "      <td>4.0</td>\n",
       "    </tr>\n",
       "    <tr>\n",
       "      <th>player_highest_wicket</th>\n",
       "      <td>2930.0</td>\n",
       "      <td>NaN</td>\n",
       "      <td>NaN</td>\n",
       "      <td>NaN</td>\n",
       "      <td>2.063481</td>\n",
       "      <td>1.10744</td>\n",
       "      <td>1.0</td>\n",
       "      <td>1.0</td>\n",
       "      <td>2.0</td>\n",
       "      <td>3.0</td>\n",
       "      <td>5.0</td>\n",
       "    </tr>\n",
       "  </tbody>\n",
       "</table>\n",
       "</div>"
      ],
      "text/plain": [
       "                         count unique           top  freq         mean  \\\n",
       "Result                    2930      2           Win  2457          NaN   \n",
       "Avg_team_Age            2930.0    NaN           NaN   NaN    29.267918   \n",
       "Match_light_type          2878      3           Day  2041          NaN   \n",
       "Match_format              2860      4           ODI  1865          NaN   \n",
       "Bowlers_in_team         2930.0    NaN           NaN   NaN     2.916041   \n",
       "All_rounder_in_team     2930.0    NaN           NaN   NaN      2.72628   \n",
       "First_selection           2871      3       Bowling  1722          NaN   \n",
       "Opponent                  2894      9  South Africa   640          NaN   \n",
       "Season                    2868      3         Rainy  1309          NaN   \n",
       "Audience_number         2930.0    NaN           NaN   NaN  45938.46041   \n",
       "Offshore                  2866      2            No  2057          NaN   \n",
       "Max_run_scored_1over    2930.0    NaN           NaN   NaN    15.188396   \n",
       "Max_wicket_taken_1over  2930.0    NaN           NaN   NaN     2.713993   \n",
       "Extra_bowls_bowled      2930.0    NaN           NaN   NaN    11.240273   \n",
       "Min_run_given_1over     2930.0    NaN           NaN   NaN      1.95256   \n",
       "Min_run_scored_1over    2930.0    NaN           NaN   NaN     2.764846   \n",
       "Max_run_given_1over     2930.0    NaN           NaN   NaN     8.638225   \n",
       "extra_bowls_opponent    2930.0    NaN           NaN   NaN     4.229693   \n",
       "player_highest_run      2930.0    NaN           NaN   NaN    65.890444   \n",
       "Players_scored_zero     2930.0    NaN           NaN   NaN     2.730034   \n",
       "player_highest_wicket   2930.0    NaN           NaN   NaN     2.063481   \n",
       "\n",
       "                                 std     min      25%      50%       75%  \\\n",
       "Result                           NaN     NaN      NaN      NaN       NaN   \n",
       "Avg_team_Age                 2.23054    12.0     30.0     30.0      30.0   \n",
       "Match_light_type                 NaN     NaN      NaN      NaN       NaN   \n",
       "Match_format                     NaN     NaN      NaN      NaN       NaN   \n",
       "Bowlers_in_team             1.009573     1.0      2.0      3.0       4.0   \n",
       "All_rounder_in_team          1.08569     1.0      2.0      3.0       4.0   \n",
       "First_selection                  NaN     NaN      NaN      NaN       NaN   \n",
       "Opponent                         NaN     NaN      NaN      NaN       NaN   \n",
       "Season                           NaN     NaN      NaN      NaN       NaN   \n",
       "Audience_number         47962.711339  7063.0  20608.0  34349.0  55931.75   \n",
       "Offshore                         NaN     NaN      NaN      NaN       NaN   \n",
       "Max_run_scored_1over        3.645339    11.0     12.0     14.0      18.0   \n",
       "Max_wicket_taken_1over      1.080623     1.0      2.0      3.0       4.0   \n",
       "Extra_bowls_bowled          7.743208     0.0      6.0     10.0      15.0   \n",
       "Min_run_given_1over         1.678332     0.0      0.0      2.0       3.0   \n",
       "Min_run_scored_1over        0.702864     1.0      2.0      3.0       3.0   \n",
       "Max_run_given_1over          4.98261     6.0      6.0      6.0       9.0   \n",
       "extra_bowls_opponent        3.626108     0.0      2.0      3.0       7.0   \n",
       "player_highest_run         20.234203    30.0     48.0     66.0      83.0   \n",
       "Players_scored_zero         0.710708     1.0      2.0      3.0       3.0   \n",
       "player_highest_wicket        1.10744     1.0      1.0      2.0       3.0   \n",
       "\n",
       "                              max  \n",
       "Result                        NaN  \n",
       "Avg_team_Age                 70.0  \n",
       "Match_light_type              NaN  \n",
       "Match_format                  NaN  \n",
       "Bowlers_in_team               5.0  \n",
       "All_rounder_in_team           4.0  \n",
       "First_selection               NaN  \n",
       "Opponent                      NaN  \n",
       "Season                        NaN  \n",
       "Audience_number         1399930.0  \n",
       "Offshore                      NaN  \n",
       "Max_run_scored_1over         25.0  \n",
       "Max_wicket_taken_1over        4.0  \n",
       "Extra_bowls_bowled           40.0  \n",
       "Min_run_given_1over           6.0  \n",
       "Min_run_scored_1over          4.0  \n",
       "Max_run_given_1over          40.0  \n",
       "extra_bowls_opponent         18.0  \n",
       "player_highest_run          100.0  \n",
       "Players_scored_zero           4.0  \n",
       "player_highest_wicket         5.0  "
      ]
     },
     "execution_count": 94,
     "metadata": {},
     "output_type": "execute_result"
    }
   ],
   "source": [
    "match_data.describe(include=\"all\").T"
   ]
  },
  {
   "cell_type": "code",
   "execution_count": 9,
   "id": "5604a581",
   "metadata": {},
   "outputs": [
    {
     "name": "stdout",
     "output_type": "stream",
     "text": [
      "<class 'pandas.core.frame.DataFrame'>\n",
      "RangeIndex: 2930 entries, 0 to 2929\n",
      "Data columns (total 23 columns):\n",
      " #   Column                  Non-Null Count  Dtype  \n",
      "---  ------                  --------------  -----  \n",
      " 0   Game_number             2930 non-null   object \n",
      " 1   Result                  2930 non-null   object \n",
      " 2   Avg_team_Age            2833 non-null   float64\n",
      " 3   Match_light_type        2878 non-null   object \n",
      " 4   Match_format            2860 non-null   object \n",
      " 5   Bowlers_in_team         2848 non-null   float64\n",
      " 6   Wicket_keeper_in_team   2930 non-null   int64  \n",
      " 7   All_rounder_in_team     2890 non-null   float64\n",
      " 8   First_selection         2871 non-null   object \n",
      " 9   Opponent                2894 non-null   object \n",
      " 10  Season                  2868 non-null   object \n",
      " 11  Audience_number         2849 non-null   float64\n",
      " 12  Offshore                2866 non-null   object \n",
      " 13  Max_run_scored_1over    2902 non-null   float64\n",
      " 14  Max_wicket_taken_1over  2930 non-null   int64  \n",
      " 15  Extra_bowls_bowled      2901 non-null   float64\n",
      " 16  Min_run_given_1over     2930 non-null   int64  \n",
      " 17  Min_run_scored_1over    2903 non-null   float64\n",
      " 18  Max_run_given_1over     2896 non-null   float64\n",
      " 19  extra_bowls_opponent    2930 non-null   int64  \n",
      " 20  player_highest_run      2902 non-null   float64\n",
      " 21  Players_scored_zero     2930 non-null   object \n",
      " 22  player_highest_wicket   2930 non-null   object \n",
      "dtypes: float64(9), int64(4), object(10)\n",
      "memory usage: 526.6+ KB\n"
     ]
    }
   ],
   "source": [
    "match_data.info()"
   ]
  },
  {
   "cell_type": "code",
   "execution_count": 10,
   "id": "6ff7362f",
   "metadata": {},
   "outputs": [
    {
     "data": {
      "text/plain": [
       "Game_number                0\n",
       "Result                     0\n",
       "Avg_team_Age              97\n",
       "Match_light_type          52\n",
       "Match_format              70\n",
       "Bowlers_in_team           82\n",
       "Wicket_keeper_in_team      0\n",
       "All_rounder_in_team       40\n",
       "First_selection           59\n",
       "Opponent                  36\n",
       "Season                    62\n",
       "Audience_number           81\n",
       "Offshore                  64\n",
       "Max_run_scored_1over      28\n",
       "Max_wicket_taken_1over     0\n",
       "Extra_bowls_bowled        29\n",
       "Min_run_given_1over        0\n",
       "Min_run_scored_1over      27\n",
       "Max_run_given_1over       34\n",
       "extra_bowls_opponent       0\n",
       "player_highest_run        28\n",
       "Players_scored_zero        0\n",
       "player_highest_wicket      0\n",
       "dtype: int64"
      ]
     },
     "execution_count": 10,
     "metadata": {},
     "output_type": "execute_result"
    }
   ],
   "source": [
    "match_data.isna().sum()"
   ]
  },
  {
   "cell_type": "markdown",
   "id": "ab503082",
   "metadata": {},
   "source": [
    "# Data Cleaning"
   ]
  },
  {
   "cell_type": "code",
   "execution_count": 11,
   "id": "07c3083b",
   "metadata": {
    "scrolled": false
   },
   "outputs": [
    {
     "name": "stdout",
     "output_type": "stream",
     "text": [
      "Game_number : ['Game_1' 'Game_2' 'Game_3' ... 'Game_2928' 'Game_2929' 'Game_2930']\n",
      "Game_1       1\n",
      "Game_1947    1\n",
      "Game_1949    1\n",
      "Game_1950    1\n",
      "Game_1951    1\n",
      "            ..\n",
      "Game_979     1\n",
      "Game_980     1\n",
      "Game_981     1\n",
      "Game_982     1\n",
      "Game_2930    1\n",
      "Name: Game_number, Length: 2930, dtype: int64\n",
      "---------------------------\n",
      "Result : ['Loss' 'Win']\n",
      "Win     2457\n",
      "Loss     473\n",
      "Name: Result, dtype: int64\n",
      "---------------------------\n",
      "Avg_team_Age : [18. 24. nan 17. 12. 25. 26. 27. 28. 29. 30. 70. 69. 50.]\n",
      "30.0    2203\n",
      "24.0     184\n",
      "29.0     131\n",
      "27.0      92\n",
      "28.0      92\n",
      "26.0      74\n",
      "25.0      50\n",
      "70.0       2\n",
      "18.0       1\n",
      "17.0       1\n",
      "12.0       1\n",
      "69.0       1\n",
      "50.0       1\n",
      "Name: Avg_team_Age, dtype: int64\n",
      "---------------------------\n",
      "Match_light_type : ['Day' 'Day and Night' nan 'Night']\n",
      "Day              2041\n",
      "Day and Night     541\n",
      "Night             296\n",
      "Name: Match_light_type, dtype: int64\n",
      "---------------------------\n",
      "Match_format : ['ODI' 'T20' 'Test' '20-20' nan]\n",
      "ODI      1865\n",
      "T20       864\n",
      "Test      125\n",
      "20-20       6\n",
      "Name: Match_format, dtype: int64\n",
      "---------------------------\n",
      "Bowlers_in_team : [ 3.  2.  1. nan  4.  5.]\n",
      "3.0    1105\n",
      "4.0     775\n",
      "2.0     547\n",
      "1.0     329\n",
      "5.0      92\n",
      "Name: Bowlers_in_team, dtype: int64\n",
      "---------------------------\n",
      "Wicket_keeper_in_team : [1]\n",
      "1    2930\n",
      "Name: Wicket_keeper_in_team, dtype: int64\n",
      "---------------------------\n",
      "All_rounder_in_team : [ 3.  4.  2.  1. nan]\n",
      "3.0    892\n",
      "4.0    877\n",
      "2.0    563\n",
      "1.0    558\n",
      "Name: All_rounder_in_team, dtype: int64\n",
      "---------------------------\n",
      "First_selection : ['Bowling' 'Batting' 'Bat' nan]\n",
      "Bowling    1722\n",
      "Batting    1138\n",
      "Bat          11\n",
      "Name: First_selection, dtype: int64\n",
      "---------------------------\n",
      "Opponent : ['Srilanka' 'Zimbabwe' 'Kenya' 'Australia' 'England' 'South Africa'\n",
      " 'Pakistan' 'West Indies' 'Bangladesh' nan]\n",
      "South Africa    640\n",
      "Kenya           576\n",
      "Srilanka        513\n",
      "England         283\n",
      "Pakistan        253\n",
      "Bangladesh      204\n",
      "Zimbabwe        163\n",
      "West Indies     158\n",
      "Australia       104\n",
      "Name: Opponent, dtype: int64\n",
      "---------------------------\n",
      "Season : ['Summer' nan 'Winter' 'Rainy']\n",
      "Rainy     1309\n",
      "Summer     918\n",
      "Winter     641\n",
      "Name: Season, dtype: int64\n",
      "---------------------------\n",
      "Audience_number : [ 9940.  8400. 13146. ... 20937. 28756. 14007.]\n",
      "16394.0    8\n",
      "44429.0    6\n",
      "16660.0    6\n",
      "19187.0    6\n",
      "17157.0    6\n",
      "          ..\n",
      "18753.0    1\n",
      "27258.0    1\n",
      "31038.0    1\n",
      "16254.0    1\n",
      "14007.0    1\n",
      "Name: Audience_number, Length: 1346, dtype: int64\n",
      "---------------------------\n",
      "Offshore : ['No' 'Yes' nan]\n",
      "No     2057\n",
      "Yes     809\n",
      "Name: Offshore, dtype: int64\n",
      "---------------------------\n",
      "Max_run_scored_1over : [13. 12. 14. 15. 16. 19. 21. 22. 25. 18. 11. 17. 24. 20. nan 23.]\n",
      "11.0    417\n",
      "13.0    415\n",
      "14.0    396\n",
      "12.0    391\n",
      "15.0    200\n",
      "18.0    173\n",
      "17.0    160\n",
      "16.0    155\n",
      "19.0    149\n",
      "22.0    110\n",
      "20.0    108\n",
      "21.0     95\n",
      "23.0     56\n",
      "24.0     41\n",
      "25.0     36\n",
      "Name: Max_run_scored_1over, dtype: int64\n",
      "---------------------------\n",
      "Max_wicket_taken_1over : [3 1 4 2]\n",
      "3    917\n",
      "4    862\n",
      "2    602\n",
      "1    549\n",
      "Name: Max_wicket_taken_1over, dtype: int64\n",
      "---------------------------\n",
      "Extra_bowls_bowled : [ 0.  1.  2.  3.  4.  5.  6.  7.  8.  9. 10. 11. 12. 17. 31. 13. 26. 24.\n",
      " 22. 19. 23. 14. 15. 29. 28. 21. 25. 20. 16. 37. 38. 30. 40. 18. 36. 34.\n",
      " 32. 33. nan 35. 27.]\n",
      "10.0    397\n",
      "6.0     244\n",
      "8.0     205\n",
      "9.0     190\n",
      "5.0     174\n",
      "1.0     162\n",
      "7.0     161\n",
      "4.0     124\n",
      "12.0     96\n",
      "3.0      84\n",
      "15.0     79\n",
      "13.0     72\n",
      "11.0     72\n",
      "16.0     71\n",
      "21.0     65\n",
      "17.0     64\n",
      "2.0      62\n",
      "14.0     60\n",
      "20.0     58\n",
      "18.0     53\n",
      "23.0     44\n",
      "19.0     44\n",
      "22.0     42\n",
      "24.0     36\n",
      "28.0     28\n",
      "25.0     28\n",
      "26.0     26\n",
      "0.0      22\n",
      "29.0     20\n",
      "31.0     17\n",
      "32.0     17\n",
      "30.0     14\n",
      "33.0     14\n",
      "27.0     14\n",
      "36.0     12\n",
      "34.0     10\n",
      "37.0      8\n",
      "35.0      6\n",
      "40.0      4\n",
      "38.0      2\n",
      "Name: Extra_bowls_bowled, dtype: int64\n",
      "---------------------------\n",
      "Min_run_given_1over : [2 0 5 4 3 6 1]\n",
      "0    953\n",
      "2    792\n",
      "3    645\n",
      "4    183\n",
      "5    157\n",
      "1    103\n",
      "6     97\n",
      "Name: Min_run_given_1over, dtype: int64\n",
      "---------------------------\n",
      "Min_run_scored_1over : [ 3.  4.  1.  2. nan]\n",
      "3.0    1768\n",
      "2.0     675\n",
      "4.0     302\n",
      "1.0     158\n",
      "Name: Min_run_scored_1over, dtype: int64\n",
      "---------------------------\n",
      "Max_run_given_1over : [ 6.  7.  8.  9. 10. 11. 25. 12. 14. 22. 15. 27. 21. 17. 13. 37. 16. 20.\n",
      " 40. 24. 33. 19. 36. 18. 29. 31. 32. 34. 26. 30. nan 23.]\n",
      "6.0     1678\n",
      "10.0     236\n",
      "7.0      177\n",
      "8.0      159\n",
      "9.0      158\n",
      "11.0      63\n",
      "20.0      53\n",
      "13.0      48\n",
      "15.0      40\n",
      "14.0      36\n",
      "22.0      30\n",
      "12.0      28\n",
      "21.0      26\n",
      "18.0      26\n",
      "16.0      24\n",
      "19.0      22\n",
      "17.0      18\n",
      "24.0      12\n",
      "33.0      10\n",
      "26.0       8\n",
      "25.0       8\n",
      "32.0       6\n",
      "31.0       6\n",
      "29.0       4\n",
      "23.0       4\n",
      "36.0       4\n",
      "27.0       4\n",
      "40.0       2\n",
      "34.0       2\n",
      "30.0       2\n",
      "37.0       2\n",
      "Name: Max_run_given_1over, dtype: int64\n",
      "---------------------------\n",
      "extra_bowls_opponent : [ 0  1  2  3  4  5  7  8  6  9 10 13 15 14 16 11 12 18 17]\n",
      "2     740\n",
      "0     488\n",
      "7     443\n",
      "3     269\n",
      "4     206\n",
      "8     178\n",
      "9     133\n",
      "1     114\n",
      "6      73\n",
      "5      72\n",
      "10     58\n",
      "11     44\n",
      "13     28\n",
      "14     22\n",
      "12     20\n",
      "15     16\n",
      "16     14\n",
      "17      8\n",
      "18      4\n",
      "Name: extra_bowls_opponent, dtype: int64\n",
      "---------------------------\n",
      "player_highest_run : [ 54.  69.  73.  80.  97.  70.  33.  50.  79. 100.  47.  52.  37.  96.\n",
      "  57.  66.  83.  32.  49.  84.  98.  87.  43.  31.  99.  39.  90.  65.\n",
      "  36.  45.  58.  59.  60.  34.  94.  48.  85.  75.  63.  62.  93.  51.\n",
      "  78.  61.  77.  38.  89.  55.  46.  41.  42.  91.  64.  40.  67.  81.\n",
      "  68.  82.  71.  88.  53.  76.  95.  30.  74.  56.  86.  44.  92.  72.\n",
      "  35.  nan]\n",
      "66.0    58\n",
      "48.0    56\n",
      "98.0    56\n",
      "42.0    55\n",
      "84.0    55\n",
      "        ..\n",
      "69.0    29\n",
      "68.0    27\n",
      "53.0    27\n",
      "38.0    26\n",
      "34.0    23\n",
      "Name: player_highest_run, Length: 71, dtype: int64\n",
      "---------------------------\n",
      "Players_scored_zero : [3 2 1 4 'Three']\n",
      "3        1730\n",
      "2         744\n",
      "4         285\n",
      "1         166\n",
      "Three       5\n",
      "Name: Players_scored_zero, dtype: int64\n",
      "---------------------------\n",
      "player_highest_wicket : [1 2 3 4 'Three' 5]\n",
      "1        1084\n",
      "2        1063\n",
      "3         427\n",
      "4         211\n",
      "5         138\n",
      "Three       7\n",
      "Name: player_highest_wicket, dtype: int64\n",
      "---------------------------\n"
     ]
    }
   ],
   "source": [
    "for i in match_data:\n",
    "    print(i,':',match_data[i].unique())\n",
    "    print(match_data[i].value_counts())\n",
    "    print('---------------------------')"
   ]
  },
  {
   "cell_type": "code",
   "execution_count": 12,
   "id": "13568d67",
   "metadata": {},
   "outputs": [
    {
     "data": {
      "text/plain": [
       "Bowling    1722\n",
       "Batting    1138\n",
       "Bat          11\n",
       "Name: First_selection, dtype: int64"
      ]
     },
     "execution_count": 12,
     "metadata": {},
     "output_type": "execute_result"
    }
   ],
   "source": [
    "match_data.First_selection.value_counts()"
   ]
  },
  {
   "cell_type": "code",
   "execution_count": 13,
   "id": "008cea3c",
   "metadata": {},
   "outputs": [
    {
     "data": {
      "text/plain": [
       "3        1730\n",
       "2         744\n",
       "4         285\n",
       "1         166\n",
       "Three       5\n",
       "Name: Players_scored_zero, dtype: int64"
      ]
     },
     "execution_count": 13,
     "metadata": {},
     "output_type": "execute_result"
    }
   ],
   "source": [
    "match_data.Players_scored_zero.value_counts()"
   ]
  },
  {
   "cell_type": "code",
   "execution_count": 14,
   "id": "469667b0",
   "metadata": {},
   "outputs": [
    {
     "data": {
      "text/plain": [
       "3    1735\n",
       "2     744\n",
       "4     285\n",
       "1     166\n",
       "Name: Players_scored_zero, dtype: int64"
      ]
     },
     "execution_count": 14,
     "metadata": {},
     "output_type": "execute_result"
    }
   ],
   "source": [
    "match_data['Players_scored_zero'].replace(to_replace='Three', value=3, inplace=True)\n",
    "match_data['Players_scored_zero'].replace(to_replace='Three', value=3, inplace=True)\n",
    "match_data.Players_scored_zero.value_counts()"
   ]
  },
  {
   "cell_type": "code",
   "execution_count": 15,
   "id": "6365d9cc",
   "metadata": {},
   "outputs": [
    {
     "data": {
      "text/plain": [
       "1        1084\n",
       "2        1063\n",
       "3         427\n",
       "4         211\n",
       "5         138\n",
       "Three       7\n",
       "Name: player_highest_wicket, dtype: int64"
      ]
     },
     "execution_count": 15,
     "metadata": {},
     "output_type": "execute_result"
    }
   ],
   "source": [
    "match_data.player_highest_wicket.value_counts()"
   ]
  },
  {
   "cell_type": "code",
   "execution_count": 16,
   "id": "05348947",
   "metadata": {},
   "outputs": [
    {
     "data": {
      "text/plain": [
       "1    1084\n",
       "2    1063\n",
       "3     434\n",
       "4     211\n",
       "5     138\n",
       "Name: player_highest_wicket, dtype: int64"
      ]
     },
     "execution_count": 16,
     "metadata": {},
     "output_type": "execute_result"
    }
   ],
   "source": [
    "match_data['player_highest_wicket'].replace(to_replace='Three', value=3, inplace=True)\n",
    "match_data.player_highest_wicket.value_counts()"
   ]
  },
  {
   "cell_type": "code",
   "execution_count": 17,
   "id": "bbb50340",
   "metadata": {},
   "outputs": [
    {
     "data": {
      "text/plain": [
       "Game_number         object\n",
       "Result              object\n",
       "Match_light_type    object\n",
       "Match_format        object\n",
       "First_selection     object\n",
       "Opponent            object\n",
       "Season              object\n",
       "Offshore            object\n",
       "dtype: object"
      ]
     },
     "execution_count": 17,
     "metadata": {},
     "output_type": "execute_result"
    }
   ],
   "source": [
    "match_data.dtypes[match_data.dtypes=='object']"
   ]
  },
  {
   "cell_type": "code",
   "execution_count": 44,
   "id": "0c91b754",
   "metadata": {},
   "outputs": [],
   "source": [
    "#match_data['Players_scored_zero']=match_data['Players_scored_zero'].astype('int64')\n",
    "#match_data['player_highest_wicket']=match_data['player_highest_wicket'].astype('int64')"
   ]
  },
  {
   "cell_type": "code",
   "execution_count": 18,
   "id": "58b02d28",
   "metadata": {},
   "outputs": [
    {
     "data": {
      "text/html": [
       "<div>\n",
       "<style scoped>\n",
       "    .dataframe tbody tr th:only-of-type {\n",
       "        vertical-align: middle;\n",
       "    }\n",
       "\n",
       "    .dataframe tbody tr th {\n",
       "        vertical-align: top;\n",
       "    }\n",
       "\n",
       "    .dataframe thead th {\n",
       "        text-align: right;\n",
       "    }\n",
       "</style>\n",
       "<table border=\"1\" class=\"dataframe\">\n",
       "  <thead>\n",
       "    <tr style=\"text-align: right;\">\n",
       "      <th></th>\n",
       "      <th>Result</th>\n",
       "      <th>Avg_team_Age</th>\n",
       "      <th>Match_light_type</th>\n",
       "      <th>Match_format</th>\n",
       "      <th>Bowlers_in_team</th>\n",
       "      <th>All_rounder_in_team</th>\n",
       "      <th>First_selection</th>\n",
       "      <th>Opponent</th>\n",
       "      <th>Season</th>\n",
       "      <th>Audience_number</th>\n",
       "      <th>Offshore</th>\n",
       "      <th>Max_run_scored_1over</th>\n",
       "      <th>Max_wicket_taken_1over</th>\n",
       "      <th>Extra_bowls_bowled</th>\n",
       "      <th>Min_run_given_1over</th>\n",
       "      <th>Min_run_scored_1over</th>\n",
       "      <th>Max_run_given_1over</th>\n",
       "      <th>extra_bowls_opponent</th>\n",
       "      <th>player_highest_run</th>\n",
       "      <th>Players_scored_zero</th>\n",
       "      <th>player_highest_wicket</th>\n",
       "    </tr>\n",
       "  </thead>\n",
       "  <tbody>\n",
       "    <tr>\n",
       "      <th>0</th>\n",
       "      <td>Loss</td>\n",
       "      <td>18.0</td>\n",
       "      <td>Day</td>\n",
       "      <td>ODI</td>\n",
       "      <td>3.0</td>\n",
       "      <td>3.0</td>\n",
       "      <td>Bowling</td>\n",
       "      <td>Srilanka</td>\n",
       "      <td>Summer</td>\n",
       "      <td>9940.0</td>\n",
       "      <td>No</td>\n",
       "      <td>13.0</td>\n",
       "      <td>3</td>\n",
       "      <td>0.0</td>\n",
       "      <td>2</td>\n",
       "      <td>3.0</td>\n",
       "      <td>6.0</td>\n",
       "      <td>0</td>\n",
       "      <td>54.0</td>\n",
       "      <td>3</td>\n",
       "      <td>1</td>\n",
       "    </tr>\n",
       "    <tr>\n",
       "      <th>1</th>\n",
       "      <td>Win</td>\n",
       "      <td>24.0</td>\n",
       "      <td>Day</td>\n",
       "      <td>T20</td>\n",
       "      <td>3.0</td>\n",
       "      <td>4.0</td>\n",
       "      <td>Batting</td>\n",
       "      <td>Zimbabwe</td>\n",
       "      <td>Summer</td>\n",
       "      <td>8400.0</td>\n",
       "      <td>No</td>\n",
       "      <td>12.0</td>\n",
       "      <td>1</td>\n",
       "      <td>0.0</td>\n",
       "      <td>0</td>\n",
       "      <td>3.0</td>\n",
       "      <td>6.0</td>\n",
       "      <td>0</td>\n",
       "      <td>69.0</td>\n",
       "      <td>2</td>\n",
       "      <td>1</td>\n",
       "    </tr>\n",
       "    <tr>\n",
       "      <th>2</th>\n",
       "      <td>Loss</td>\n",
       "      <td>24.0</td>\n",
       "      <td>Day and Night</td>\n",
       "      <td>T20</td>\n",
       "      <td>3.0</td>\n",
       "      <td>2.0</td>\n",
       "      <td>Bowling</td>\n",
       "      <td>Zimbabwe</td>\n",
       "      <td>NaN</td>\n",
       "      <td>13146.0</td>\n",
       "      <td>Yes</td>\n",
       "      <td>14.0</td>\n",
       "      <td>4</td>\n",
       "      <td>0.0</td>\n",
       "      <td>0</td>\n",
       "      <td>3.0</td>\n",
       "      <td>6.0</td>\n",
       "      <td>0</td>\n",
       "      <td>69.0</td>\n",
       "      <td>3</td>\n",
       "      <td>1</td>\n",
       "    </tr>\n",
       "    <tr>\n",
       "      <th>3</th>\n",
       "      <td>Win</td>\n",
       "      <td>24.0</td>\n",
       "      <td>NaN</td>\n",
       "      <td>ODI</td>\n",
       "      <td>2.0</td>\n",
       "      <td>2.0</td>\n",
       "      <td>Bowling</td>\n",
       "      <td>Kenya</td>\n",
       "      <td>Summer</td>\n",
       "      <td>7357.0</td>\n",
       "      <td>No</td>\n",
       "      <td>15.0</td>\n",
       "      <td>4</td>\n",
       "      <td>0.0</td>\n",
       "      <td>2</td>\n",
       "      <td>3.0</td>\n",
       "      <td>6.0</td>\n",
       "      <td>0</td>\n",
       "      <td>73.0</td>\n",
       "      <td>3</td>\n",
       "      <td>1</td>\n",
       "    </tr>\n",
       "    <tr>\n",
       "      <th>4</th>\n",
       "      <td>Loss</td>\n",
       "      <td>24.0</td>\n",
       "      <td>Night</td>\n",
       "      <td>ODI</td>\n",
       "      <td>1.0</td>\n",
       "      <td>3.0</td>\n",
       "      <td>Bowling</td>\n",
       "      <td>Srilanka</td>\n",
       "      <td>Summer</td>\n",
       "      <td>13328.0</td>\n",
       "      <td>No</td>\n",
       "      <td>12.0</td>\n",
       "      <td>4</td>\n",
       "      <td>0.0</td>\n",
       "      <td>0</td>\n",
       "      <td>3.0</td>\n",
       "      <td>6.0</td>\n",
       "      <td>0</td>\n",
       "      <td>80.0</td>\n",
       "      <td>3</td>\n",
       "      <td>1</td>\n",
       "    </tr>\n",
       "  </tbody>\n",
       "</table>\n",
       "</div>"
      ],
      "text/plain": [
       "  Result  Avg_team_Age Match_light_type Match_format  Bowlers_in_team  \\\n",
       "0   Loss          18.0              Day          ODI              3.0   \n",
       "1    Win          24.0              Day          T20              3.0   \n",
       "2   Loss          24.0    Day and Night          T20              3.0   \n",
       "3    Win          24.0              NaN          ODI              2.0   \n",
       "4   Loss          24.0            Night          ODI              1.0   \n",
       "\n",
       "   All_rounder_in_team First_selection  Opponent  Season  Audience_number  \\\n",
       "0                  3.0         Bowling  Srilanka  Summer           9940.0   \n",
       "1                  4.0         Batting  Zimbabwe  Summer           8400.0   \n",
       "2                  2.0         Bowling  Zimbabwe     NaN          13146.0   \n",
       "3                  2.0         Bowling     Kenya  Summer           7357.0   \n",
       "4                  3.0         Bowling  Srilanka  Summer          13328.0   \n",
       "\n",
       "  Offshore  Max_run_scored_1over  Max_wicket_taken_1over  Extra_bowls_bowled  \\\n",
       "0       No                  13.0                       3                 0.0   \n",
       "1       No                  12.0                       1                 0.0   \n",
       "2      Yes                  14.0                       4                 0.0   \n",
       "3       No                  15.0                       4                 0.0   \n",
       "4       No                  12.0                       4                 0.0   \n",
       "\n",
       "   Min_run_given_1over  Min_run_scored_1over  Max_run_given_1over  \\\n",
       "0                    2                   3.0                  6.0   \n",
       "1                    0                   3.0                  6.0   \n",
       "2                    0                   3.0                  6.0   \n",
       "3                    2                   3.0                  6.0   \n",
       "4                    0                   3.0                  6.0   \n",
       "\n",
       "   extra_bowls_opponent  player_highest_run  Players_scored_zero  \\\n",
       "0                     0                54.0                    3   \n",
       "1                     0                69.0                    2   \n",
       "2                     0                69.0                    3   \n",
       "3                     0                73.0                    3   \n",
       "4                     0                80.0                    3   \n",
       "\n",
       "   player_highest_wicket  \n",
       "0                      1  \n",
       "1                      1  \n",
       "2                      1  \n",
       "3                      1  \n",
       "4                      1  "
      ]
     },
     "execution_count": 18,
     "metadata": {},
     "output_type": "execute_result"
    }
   ],
   "source": [
    "match_data.drop(['Game_number','Wicket_keeper_in_team'],axis=1, inplace=True)\n",
    "match_data.head()"
   ]
  },
  {
   "cell_type": "markdown",
   "id": "c02e901d",
   "metadata": {},
   "source": [
    "# lets treat the missing value "
   ]
  },
  {
   "cell_type": "code",
   "execution_count": 19,
   "id": "252dac9a",
   "metadata": {},
   "outputs": [
    {
     "data": {
      "text/plain": [
       "Result                     0\n",
       "Avg_team_Age               0\n",
       "Match_light_type          52\n",
       "Match_format              70\n",
       "Bowlers_in_team            0\n",
       "All_rounder_in_team        0\n",
       "First_selection           59\n",
       "Opponent                  36\n",
       "Season                    62\n",
       "Audience_number            0\n",
       "Offshore                  64\n",
       "Max_run_scored_1over       0\n",
       "Max_wicket_taken_1over     0\n",
       "Extra_bowls_bowled         0\n",
       "Min_run_given_1over        0\n",
       "Min_run_scored_1over       0\n",
       "Max_run_given_1over        0\n",
       "extra_bowls_opponent       0\n",
       "player_highest_run         0\n",
       "Players_scored_zero        0\n",
       "player_highest_wicket      0\n",
       "dtype: int64"
      ]
     },
     "execution_count": 19,
     "metadata": {},
     "output_type": "execute_result"
    }
   ],
   "source": [
    "# lets treat for numerical variable \n",
    "match_data['Avg_team_Age'].fillna(value=match_data['Avg_team_Age'].median(), inplace=True)\n",
    "match_data['Bowlers_in_team'].fillna(value=match_data['Bowlers_in_team'].median(), inplace=True)\n",
    "match_data['All_rounder_in_team'].fillna(value=match_data['All_rounder_in_team'].median(), inplace=True)\n",
    "match_data['Audience_number'].fillna(value=match_data['Audience_number'].median(), inplace=True)\n",
    "match_data['Max_run_scored_1over'].fillna(value=match_data['Max_run_scored_1over'].median(), inplace=True)\n",
    "match_data['Extra_bowls_bowled'].fillna(value=match_data['Extra_bowls_bowled'].median(), inplace=True)\n",
    "match_data['Min_run_scored_1over'].fillna(value=match_data['Min_run_scored_1over'].median(), inplace=True)\n",
    "match_data['Max_run_given_1over'].fillna(value=match_data['Max_run_given_1over'].median(), inplace=True)\n",
    "match_data['player_highest_run'].fillna(value=match_data['player_highest_run'].median(), inplace=True)\n",
    "match_data.isna().sum()"
   ]
  },
  {
   "cell_type": "code",
   "execution_count": 40,
   "id": "e44e10ab",
   "metadata": {},
   "outputs": [
    {
     "data": {
      "text/plain": [
       "66.0"
      ]
     },
     "execution_count": 40,
     "metadata": {},
     "output_type": "execute_result"
    }
   ],
   "source": [
    "match_data.player_highest_run.median()"
   ]
  },
  {
   "cell_type": "code",
   "execution_count": 37,
   "id": "ec9f718d",
   "metadata": {},
   "outputs": [
    {
     "data": {
      "text/plain": [
       "0    No\n",
       "Name: Offshore, dtype: object"
      ]
     },
     "execution_count": 37,
     "metadata": {},
     "output_type": "execute_result"
    }
   ],
   "source": [
    "match_data.Offshore.mode()"
   ]
  },
  {
   "cell_type": "code",
   "execution_count": 16,
   "id": "19de375f",
   "metadata": {},
   "outputs": [
    {
     "data": {
      "text/plain": [
       "Result                    0\n",
       "Avg_team_Age              0\n",
       "Match_light_type          0\n",
       "Match_format              0\n",
       "Bowlers_in_team           0\n",
       "All_rounder_in_team       0\n",
       "First_selection           0\n",
       "Opponent                  0\n",
       "Season                    0\n",
       "Audience_number           0\n",
       "Offshore                  0\n",
       "Max_run_scored_1over      0\n",
       "Max_wicket_taken_1over    0\n",
       "Extra_bowls_bowled        0\n",
       "Min_run_given_1over       0\n",
       "Min_run_scored_1over      0\n",
       "Max_run_given_1over       0\n",
       "extra_bowls_opponent      0\n",
       "player_highest_run        0\n",
       "Players_scored_zero       0\n",
       "player_highest_wicket     0\n",
       "dtype: int64"
      ]
     },
     "execution_count": 16,
     "metadata": {},
     "output_type": "execute_result"
    }
   ],
   "source": [
    "# Treating missing value for categorical variable \n",
    "match_data['Match_light_type'].fillna(value=match_data['Match_light_type'].mode, inplace=True)\n",
    "match_data['Match_format'].fillna(value=match_data['Match_format'].mode, inplace=True)\n",
    "match_data['First_selection'].fillna(value=match_data['First_selection'].mode, inplace=True)\n",
    "match_data['Opponent'].fillna(value=match_data['Opponent'].mode, inplace=True)\n",
    "match_data['Season'].fillna(value=match_data['Season'].mode, inplace=True)\n",
    "match_data['Offshore'].fillna(value=match_data['Offshore'].mode, inplace=True)\n",
    "match_data.isna().sum()"
   ]
  },
  {
   "cell_type": "code",
   "execution_count": null,
   "id": "27b932a8",
   "metadata": {},
   "outputs": [],
   "source": [
    "def outlier_removal(x):\n",
    "    sorted(x)\n",
    "    q1,q3=x.quantile([0.15,0.95])\n",
    "    iqr=q3-q1\n",
    "    lower=q1-(1.5*iqr)\n",
    "    upper=q3-(1.5*iqr)\n",
    "    return lower,upper"
   ]
  },
  {
   "cell_type": "code",
   "execution_count": null,
   "id": "0285ac02",
   "metadata": {},
   "outputs": [],
   "source": [
    "lower,upper=outlier_removal(match_data['Audience_number'])\n",
    "match_data['Audience_number']=np.where(match_data['Audience_number']>upper,upper,match_data['Audience_number'])\n",
    "match_data['Audience_number']=np.where(match_data['Audience_number']<lower,upper,match_data['Audience_number'])"
   ]
  },
  {
   "cell_type": "code",
   "execution_count": null,
   "id": "7a771c6e",
   "metadata": {},
   "outputs": [],
   "source": [
    "match_data.to_excel('EDA_Data.xlsx',sheet_name='Sport data for DBSA')"
   ]
  },
  {
   "cell_type": "code",
   "execution_count": 41,
   "id": "3e5b72af",
   "metadata": {},
   "outputs": [
    {
     "data": {
      "text/html": [
       "<div>\n",
       "<style scoped>\n",
       "    .dataframe tbody tr th:only-of-type {\n",
       "        vertical-align: middle;\n",
       "    }\n",
       "\n",
       "    .dataframe tbody tr th {\n",
       "        vertical-align: top;\n",
       "    }\n",
       "\n",
       "    .dataframe thead th {\n",
       "        text-align: right;\n",
       "    }\n",
       "</style>\n",
       "<table border=\"1\" class=\"dataframe\">\n",
       "  <thead>\n",
       "    <tr style=\"text-align: right;\">\n",
       "      <th></th>\n",
       "      <th>Result</th>\n",
       "      <th>Avg_team_Age</th>\n",
       "      <th>Match_light_type</th>\n",
       "      <th>Match_format</th>\n",
       "      <th>Bowlers_in_team</th>\n",
       "      <th>All_rounder_in_team</th>\n",
       "      <th>First_selection</th>\n",
       "      <th>Opponent</th>\n",
       "      <th>Season</th>\n",
       "      <th>Audience_number</th>\n",
       "      <th>Offshore</th>\n",
       "      <th>Max_run_scored_1over</th>\n",
       "      <th>Max_wicket_taken_1over</th>\n",
       "      <th>Extra_bowls_bowled</th>\n",
       "      <th>Min_run_given_1over</th>\n",
       "      <th>Min_run_scored_1over</th>\n",
       "      <th>Max_run_given_1over</th>\n",
       "      <th>extra_bowls_opponent</th>\n",
       "      <th>player_highest_run</th>\n",
       "      <th>Players_scored_zero</th>\n",
       "      <th>player_highest_wicket</th>\n",
       "    </tr>\n",
       "  </thead>\n",
       "  <tbody>\n",
       "    <tr>\n",
       "      <th>0</th>\n",
       "      <td>Loss</td>\n",
       "      <td>28</td>\n",
       "      <td>Day</td>\n",
       "      <td>ODI</td>\n",
       "      <td>3</td>\n",
       "      <td>3</td>\n",
       "      <td>Bowling</td>\n",
       "      <td>Srilanka</td>\n",
       "      <td>Summer</td>\n",
       "      <td>9940</td>\n",
       "      <td>No</td>\n",
       "      <td>13</td>\n",
       "      <td>3</td>\n",
       "      <td>0.0</td>\n",
       "      <td>2</td>\n",
       "      <td>3.0</td>\n",
       "      <td>6.0</td>\n",
       "      <td>0</td>\n",
       "      <td>54</td>\n",
       "      <td>3</td>\n",
       "      <td>1</td>\n",
       "    </tr>\n",
       "    <tr>\n",
       "      <th>1</th>\n",
       "      <td>Win</td>\n",
       "      <td>24</td>\n",
       "      <td>Day</td>\n",
       "      <td>T20</td>\n",
       "      <td>3</td>\n",
       "      <td>4</td>\n",
       "      <td>Batting</td>\n",
       "      <td>Zimbabwe</td>\n",
       "      <td>Summer</td>\n",
       "      <td>8400</td>\n",
       "      <td>No</td>\n",
       "      <td>12</td>\n",
       "      <td>1</td>\n",
       "      <td>0.0</td>\n",
       "      <td>0</td>\n",
       "      <td>3.0</td>\n",
       "      <td>6.0</td>\n",
       "      <td>0</td>\n",
       "      <td>69</td>\n",
       "      <td>2</td>\n",
       "      <td>1</td>\n",
       "    </tr>\n",
       "    <tr>\n",
       "      <th>2</th>\n",
       "      <td>Loss</td>\n",
       "      <td>24</td>\n",
       "      <td>Day and Night</td>\n",
       "      <td>T20</td>\n",
       "      <td>3</td>\n",
       "      <td>2</td>\n",
       "      <td>Bowling</td>\n",
       "      <td>Zimbabwe</td>\n",
       "      <td>Rainy</td>\n",
       "      <td>13146</td>\n",
       "      <td>Yes</td>\n",
       "      <td>14</td>\n",
       "      <td>4</td>\n",
       "      <td>0.0</td>\n",
       "      <td>0</td>\n",
       "      <td>3.0</td>\n",
       "      <td>6.0</td>\n",
       "      <td>0</td>\n",
       "      <td>69</td>\n",
       "      <td>3</td>\n",
       "      <td>1</td>\n",
       "    </tr>\n",
       "    <tr>\n",
       "      <th>3</th>\n",
       "      <td>Win</td>\n",
       "      <td>24</td>\n",
       "      <td>Day</td>\n",
       "      <td>ODI</td>\n",
       "      <td>2</td>\n",
       "      <td>2</td>\n",
       "      <td>Bowling</td>\n",
       "      <td>Kenya</td>\n",
       "      <td>Summer</td>\n",
       "      <td>7357</td>\n",
       "      <td>No</td>\n",
       "      <td>15</td>\n",
       "      <td>4</td>\n",
       "      <td>0.0</td>\n",
       "      <td>2</td>\n",
       "      <td>3.0</td>\n",
       "      <td>6.0</td>\n",
       "      <td>0</td>\n",
       "      <td>73</td>\n",
       "      <td>3</td>\n",
       "      <td>1</td>\n",
       "    </tr>\n",
       "    <tr>\n",
       "      <th>4</th>\n",
       "      <td>Loss</td>\n",
       "      <td>24</td>\n",
       "      <td>Night</td>\n",
       "      <td>ODI</td>\n",
       "      <td>1</td>\n",
       "      <td>3</td>\n",
       "      <td>Bowling</td>\n",
       "      <td>Srilanka</td>\n",
       "      <td>Summer</td>\n",
       "      <td>13328</td>\n",
       "      <td>No</td>\n",
       "      <td>12</td>\n",
       "      <td>4</td>\n",
       "      <td>0.0</td>\n",
       "      <td>0</td>\n",
       "      <td>3.0</td>\n",
       "      <td>6.0</td>\n",
       "      <td>0</td>\n",
       "      <td>80</td>\n",
       "      <td>3</td>\n",
       "      <td>1</td>\n",
       "    </tr>\n",
       "  </tbody>\n",
       "</table>\n",
       "</div>"
      ],
      "text/plain": [
       "  Result  Avg_team_Age Match_light_type Match_format  Bowlers_in_team  \\\n",
       "0   Loss            28              Day          ODI                3   \n",
       "1    Win            24              Day          T20                3   \n",
       "2   Loss            24    Day and Night          T20                3   \n",
       "3    Win            24              Day          ODI                2   \n",
       "4   Loss            24            Night          ODI                1   \n",
       "\n",
       "   All_rounder_in_team First_selection  Opponent  Season  Audience_number  \\\n",
       "0                    3         Bowling  Srilanka  Summer             9940   \n",
       "1                    4         Batting  Zimbabwe  Summer             8400   \n",
       "2                    2         Bowling  Zimbabwe   Rainy            13146   \n",
       "3                    2         Bowling     Kenya  Summer             7357   \n",
       "4                    3         Bowling  Srilanka  Summer            13328   \n",
       "\n",
       "  Offshore  Max_run_scored_1over  Max_wicket_taken_1over  Extra_bowls_bowled  \\\n",
       "0       No                    13                       3                 0.0   \n",
       "1       No                    12                       1                 0.0   \n",
       "2      Yes                    14                       4                 0.0   \n",
       "3       No                    15                       4                 0.0   \n",
       "4       No                    12                       4                 0.0   \n",
       "\n",
       "   Min_run_given_1over  Min_run_scored_1over  Max_run_given_1over  \\\n",
       "0                    2                   3.0                  6.0   \n",
       "1                    0                   3.0                  6.0   \n",
       "2                    0                   3.0                  6.0   \n",
       "3                    2                   3.0                  6.0   \n",
       "4                    0                   3.0                  6.0   \n",
       "\n",
       "   extra_bowls_opponent  player_highest_run  Players_scored_zero  \\\n",
       "0                     0                  54                    3   \n",
       "1                     0                  69                    2   \n",
       "2                     0                  69                    3   \n",
       "3                     0                  73                    3   \n",
       "4                     0                  80                    3   \n",
       "\n",
       "   player_highest_wicket  \n",
       "0                      1  \n",
       "1                      1  \n",
       "2                      1  \n",
       "3                      1  \n",
       "4                      1  "
      ]
     },
     "execution_count": 41,
     "metadata": {},
     "output_type": "execute_result"
    }
   ],
   "source": [
    "df=pd.read_excel('EDA_Data.xlsx')\n",
    "df.head()"
   ]
  },
  {
   "cell_type": "code",
   "execution_count": 43,
   "id": "974c0b63",
   "metadata": {},
   "outputs": [
    {
     "data": {
      "text/plain": [
       "Result                     0\n",
       "Avg_team_Age               0\n",
       "Match_light_type           0\n",
       "Match_format               0\n",
       "Bowlers_in_team            0\n",
       "All_rounder_in_team        0\n",
       "First_selection            0\n",
       "Opponent                   0\n",
       "Season                     0\n",
       "Audience_number            0\n",
       "Offshore                   0\n",
       "Max_run_scored_1over       0\n",
       "Max_wicket_taken_1over     0\n",
       "Extra_bowls_bowled        29\n",
       "Min_run_given_1over        0\n",
       "Min_run_scored_1over      27\n",
       "Max_run_given_1over       34\n",
       "extra_bowls_opponent       0\n",
       "player_highest_run         0\n",
       "Players_scored_zero        0\n",
       "player_highest_wicket      0\n",
       "dtype: int64"
      ]
     },
     "execution_count": 43,
     "metadata": {},
     "output_type": "execute_result"
    }
   ],
   "source": [
    "df.isna().sum()"
   ]
  },
  {
   "cell_type": "code",
   "execution_count": 45,
   "id": "6ee091a5",
   "metadata": {},
   "outputs": [
    {
     "data": {
      "text/plain": [
       "Result                    0\n",
       "Avg_team_Age              0\n",
       "Match_light_type          0\n",
       "Match_format              0\n",
       "Bowlers_in_team           0\n",
       "All_rounder_in_team       0\n",
       "First_selection           0\n",
       "Opponent                  0\n",
       "Season                    0\n",
       "Audience_number           0\n",
       "Offshore                  0\n",
       "Max_run_scored_1over      0\n",
       "Max_wicket_taken_1over    0\n",
       "Extra_bowls_bowled        0\n",
       "Min_run_given_1over       0\n",
       "Min_run_scored_1over      0\n",
       "Max_run_given_1over       0\n",
       "extra_bowls_opponent      0\n",
       "player_highest_run        0\n",
       "Players_scored_zero       0\n",
       "player_highest_wicket     0\n",
       "dtype: int64"
      ]
     },
     "execution_count": 45,
     "metadata": {},
     "output_type": "execute_result"
    }
   ],
   "source": [
    "df['Extra_bowls_bowled'].fillna(value=df['Extra_bowls_bowled'].median(), inplace=True)\n",
    "df['Min_run_scored_1over'].fillna(value=df['Min_run_scored_1over'].median(), inplace=True)\n",
    "df['Max_run_given_1over'].fillna(value=df['Max_run_given_1over'].median(), inplace=True)\n",
    "df.isna().sum()"
   ]
  },
  {
   "cell_type": "markdown",
   "id": "1dd07a78",
   "metadata": {},
   "source": [
    "# EDA \n",
    "### Univariable analysis for numerical variable "
   ]
  },
  {
   "cell_type": "code",
   "execution_count": 46,
   "id": "bfb91a77",
   "metadata": {},
   "outputs": [
    {
     "data": {
      "image/png": "[encoded data removed]",
      "text/plain": [
       "<Figure size 1296x1080 with 16 Axes>"
      ]
     },
     "metadata": {
      "needs_background": "light"
     },
     "output_type": "display_data"
    }
   ],
   "source": [
    "df.copy()[['Avg_team_Age', 'Bowlers_in_team', \n",
    "       'All_rounder_in_team',\n",
    "       'Audience_number','Max_run_scored_1over',\n",
    "       'Max_wicket_taken_1over', 'Extra_bowls_bowled', 'Min_run_given_1over',\n",
    "       'Min_run_scored_1over', 'extra_bowls_opponent',\n",
    "       'player_highest_run', 'Players_scored_zero', 'player_highest_wicket']].hist(figsize=(18,15));"
   ]
  },
  {
   "cell_type": "code",
   "execution_count": 61,
   "id": "b9922071",
   "metadata": {},
   "outputs": [
    {
     "data": {
      "image/png": "[encoded data removed]",
      "text/plain": [
       "<Figure size 432x288 with 1 Axes>"
      ]
     },
     "metadata": {
      "needs_background": "light"
     },
     "output_type": "display_data"
    }
   ],
   "source": [
    "sns.boxplot(y=df['Avg_team_Age']);"
   ]
  },
  {
   "cell_type": "code",
   "execution_count": 62,
   "id": "72ebf4cd",
   "metadata": {},
   "outputs": [
    {
     "data": {
      "image/png": "[encoded data removed]",
      "text/plain": [
       "<Figure size 432x288 with 1 Axes>"
      ]
     },
     "metadata": {
      "needs_background": "light"
     },
     "output_type": "display_data"
    }
   ],
   "source": [
    "sns.boxplot(y=df['Bowlers_in_team']);"
   ]
  },
  {
   "cell_type": "code",
   "execution_count": 63,
   "id": "64e760f0",
   "metadata": {},
   "outputs": [
    {
     "data": {
      "image/png": "[encoded data removed]",
      "text/plain": [
       "<Figure size 432x288 with 1 Axes>"
      ]
     },
     "metadata": {
      "needs_background": "light"
     },
     "output_type": "display_data"
    }
   ],
   "source": [
    "sns.boxplot(y=df['All_rounder_in_team']);"
   ]
  },
  {
   "cell_type": "code",
   "execution_count": 64,
   "id": "9af377c6",
   "metadata": {},
   "outputs": [
    {
     "data": {
      "image/png": "[encoded data removed]",
      "text/plain": [
       "<Figure size 432x288 with 1 Axes>"
      ]
     },
     "metadata": {
      "needs_background": "light"
     },
     "output_type": "display_data"
    }
   ],
   "source": [
    "sns.boxplot(y=df['Audience_number']);"
   ]
  },
  {
   "cell_type": "code",
   "execution_count": 65,
   "id": "3d079895",
   "metadata": {},
   "outputs": [
    {
     "data": {
      "image/png": "[encoded data removed]",
      "text/plain": [
       "<Figure size 432x288 with 1 Axes>"
      ]
     },
     "metadata": {
      "needs_background": "light"
     },
     "output_type": "display_data"
    }
   ],
   "source": [
    "sns.boxplot(y=df['Max_run_scored_1over']);"
   ]
  },
  {
   "cell_type": "code",
   "execution_count": 66,
   "id": "b2b77bb4",
   "metadata": {},
   "outputs": [
    {
     "data": {
      "image/png": "[encoded data removed]",
      "text/plain": [
       "<Figure size 432x288 with 1 Axes>"
      ]
     },
     "metadata": {
      "needs_background": "light"
     },
     "output_type": "display_data"
    }
   ],
   "source": [
    "sns.boxplot(y=df['Max_wicket_taken_1over']);"
   ]
  },
  {
   "cell_type": "code",
   "execution_count": 67,
   "id": "12046f17",
   "metadata": {},
   "outputs": [
    {
     "data": {
      "image/png": "[encoded data removed]",
      "text/plain": [
       "<Figure size 432x288 with 1 Axes>"
      ]
     },
     "metadata": {
      "needs_background": "light"
     },
     "output_type": "display_data"
    }
   ],
   "source": [
    "sns.boxplot(y=df['Extra_bowls_bowled']);"
   ]
  },
  {
   "cell_type": "code",
   "execution_count": 68,
   "id": "e43a503f",
   "metadata": {},
   "outputs": [
    {
     "data": {
      "image/png": "[encoded data removed]",
      "text/plain": [
       "<Figure size 432x288 with 1 Axes>"
      ]
     },
     "metadata": {
      "needs_background": "light"
     },
     "output_type": "display_data"
    }
   ],
   "source": [
    "sns.boxplot(y=df['Min_run_scored_1over']);"
   ]
  },
  {
   "cell_type": "code",
   "execution_count": 69,
   "id": "8529b8f2",
   "metadata": {},
   "outputs": [
    {
     "data": {
      "image/png": "[encoded data removed]",
      "text/plain": [
       "<Figure size 432x288 with 1 Axes>"
      ]
     },
     "metadata": {
      "needs_background": "light"
     },
     "output_type": "display_data"
    }
   ],
   "source": [
    "sns.boxplot(y=df['Max_run_given_1over']);"
   ]
  },
  {
   "cell_type": "code",
   "execution_count": 70,
   "id": "cd154fbf",
   "metadata": {},
   "outputs": [
    {
     "data": {
      "image/png": "[encoded data removed]",
      "text/plain": [
       "<Figure size 432x288 with 1 Axes>"
      ]
     },
     "metadata": {
      "needs_background": "light"
     },
     "output_type": "display_data"
    }
   ],
   "source": [
    "sns.boxplot(y=df['extra_bowls_opponent']);"
   ]
  },
  {
   "cell_type": "code",
   "execution_count": 71,
   "id": "481abb4c",
   "metadata": {},
   "outputs": [
    {
     "data": {
      "image/png": "[encoded data removed]",
      "text/plain": [
       "<Figure size 432x288 with 1 Axes>"
      ]
     },
     "metadata": {
      "needs_background": "light"
     },
     "output_type": "display_data"
    }
   ],
   "source": [
    "sns.boxplot(y=df['player_highest_run']);"
   ]
  },
  {
   "cell_type": "code",
   "execution_count": 72,
   "id": "7f20e72a",
   "metadata": {},
   "outputs": [
    {
     "data": {
      "text/plain": [
       "<AxesSubplot:ylabel='Players_scored_zero'>"
      ]
     },
     "execution_count": 72,
     "metadata": {},
     "output_type": "execute_result"
    },
    {
     "data": {
      "image/png": "[encoded data removed]",
      "text/plain": [
       "<Figure size 432x288 with 1 Axes>"
      ]
     },
     "metadata": {
      "needs_background": "light"
     },
     "output_type": "display_data"
    }
   ],
   "source": [
    "sns.boxplot(y=df['Players_scored_zero'])"
   ]
  },
  {
   "cell_type": "code",
   "execution_count": 73,
   "id": "e1feabf5",
   "metadata": {},
   "outputs": [
    {
     "data": {
      "image/png": "[encoded data removed]",
      "text/plain": [
       "<Figure size 432x288 with 1 Axes>"
      ]
     },
     "metadata": {
      "needs_background": "light"
     },
     "output_type": "display_data"
    }
   ],
   "source": [
    "sns.boxplot(y=df['player_highest_wicket']);"
   ]
  },
  {
   "cell_type": "markdown",
   "id": "5714905b",
   "metadata": {},
   "source": [
    "### Univariate for categorical variable"
   ]
  },
  {
   "cell_type": "code",
   "execution_count": 50,
   "id": "7e0ab79c",
   "metadata": {},
   "outputs": [
    {
     "data": {
      "text/plain": [
       "Result              object\n",
       "Match_light_type    object\n",
       "Match_format        object\n",
       "First_selection     object\n",
       "Opponent            object\n",
       "Season              object\n",
       "Offshore            object\n",
       "dtype: object"
      ]
     },
     "execution_count": 50,
     "metadata": {},
     "output_type": "execute_result"
    }
   ],
   "source": [
    "df.dtypes[match_data.dtypes=='object']"
   ]
  },
  {
   "cell_type": "code",
   "execution_count": 51,
   "id": "63867c08",
   "metadata": {
    "scrolled": true
   },
   "outputs": [
    {
     "data": {
      "image/png": "[encoded data removed]",
      "text/plain": [
       "<Figure size 432x288 with 1 Axes>"
      ]
     },
     "metadata": {
      "needs_background": "light"
     },
     "output_type": "display_data"
    }
   ],
   "source": [
    "sns.countplot(x='Result', data=df);"
   ]
  },
  {
   "cell_type": "code",
   "execution_count": 49,
   "id": "18e306bb",
   "metadata": {
    "scrolled": true
   },
   "outputs": [
    {
     "name": "stderr",
     "output_type": "stream",
     "text": [
      "C:\\Users\\SarlaBishnani\\Anaconda3\\lib\\site-packages\\seaborn\\_decorators.py:36: FutureWarning: Pass the following variable as a keyword arg: x. From version 0.12, the only valid positional argument will be `data`, and passing other arguments without an explicit keyword will result in an error or misinterpretation.\n",
      "  warnings.warn(\n"
     ]
    },
    {
     "data": {
      "image/png": "[encoded data removed]",
      "text/plain": [
       "<Figure size 432x288 with 1 Axes>"
      ]
     },
     "metadata": {
      "needs_background": "light"
     },
     "output_type": "display_data"
    }
   ],
   "source": [
    "sns.countplot(df['Match_light_type']);"
   ]
  },
  {
   "cell_type": "code",
   "execution_count": 50,
   "id": "500efdb2",
   "metadata": {},
   "outputs": [
    {
     "name": "stderr",
     "output_type": "stream",
     "text": [
      "C:\\Users\\SarlaBishnani\\Anaconda3\\lib\\site-packages\\seaborn\\_decorators.py:36: FutureWarning: Pass the following variable as a keyword arg: x. From version 0.12, the only valid positional argument will be `data`, and passing other arguments without an explicit keyword will result in an error or misinterpretation.\n",
      "  warnings.warn(\n"
     ]
    },
    {
     "data": {
      "image/png": "[encoded data removed]",
      "text/plain": [
       "<Figure size 432x288 with 1 Axes>"
      ]
     },
     "metadata": {
      "needs_background": "light"
     },
     "output_type": "display_data"
    }
   ],
   "source": [
    "sns.countplot(df.Match_format);"
   ]
  },
  {
   "cell_type": "code",
   "execution_count": 51,
   "id": "a7a11fb8",
   "metadata": {},
   "outputs": [
    {
     "data": {
      "image/png": "[encoded data removed]",
      "text/plain": [
       "<Figure size 432x288 with 1 Axes>"
      ]
     },
     "metadata": {
      "needs_background": "light"
     },
     "output_type": "display_data"
    }
   ],
   "source": [
    "sns.countplot(x='First_selection', data=df);"
   ]
  },
  {
   "cell_type": "code",
   "execution_count": 52,
   "id": "51093949",
   "metadata": {},
   "outputs": [
    {
     "data": {
      "image/png": "[encoded data removed]",
      "text/plain": [
       "<Figure size 432x288 with 1 Axes>"
      ]
     },
     "metadata": {
      "needs_background": "light"
     },
     "output_type": "display_data"
    }
   ],
   "source": [
    "sns.countplot(y='Opponent', data=df);"
   ]
  },
  {
   "cell_type": "code",
   "execution_count": 53,
   "id": "4e89557c",
   "metadata": {},
   "outputs": [
    {
     "data": {
      "image/png": "[encoded data removed]",
      "text/plain": [
       "<Figure size 432x288 with 1 Axes>"
      ]
     },
     "metadata": {
      "needs_background": "light"
     },
     "output_type": "display_data"
    }
   ],
   "source": [
    "sns.countplot(x='Season', data=df);"
   ]
  },
  {
   "cell_type": "code",
   "execution_count": 54,
   "id": "0938291d",
   "metadata": {},
   "outputs": [
    {
     "data": {
      "image/png": "[encoded data removed]",
      "text/plain": [
       "<Figure size 432x288 with 1 Axes>"
      ]
     },
     "metadata": {
      "needs_background": "light"
     },
     "output_type": "display_data"
    }
   ],
   "source": [
    "sns.countplot(x='Offshore', data=df);"
   ]
  },
  {
   "cell_type": "code",
   "execution_count": 55,
   "id": "310e3ae2",
   "metadata": {},
   "outputs": [
    {
     "data": {
      "text/plain": [
       "ODI     1935\n",
       "T20      870\n",
       "Test     125\n",
       "Name: Match_format, dtype: int64"
      ]
     },
     "execution_count": 55,
     "metadata": {},
     "output_type": "execute_result"
    }
   ],
   "source": [
    "df.Match_format.value_counts()"
   ]
  },
  {
   "cell_type": "markdown",
   "id": "0ccadcb3",
   "metadata": {},
   "source": [
    "# Bivariate Analysis \n",
    "### For numerical variable"
   ]
  },
  {
   "cell_type": "code",
   "execution_count": 57,
   "id": "3a9b8bf4",
   "metadata": {},
   "outputs": [
    {
     "data": {
      "text/plain": [
       "Avg_team_Age                int64\n",
       "Bowlers_in_team             int64\n",
       "All_rounder_in_team         int64\n",
       "Audience_number             int64\n",
       "Max_run_scored_1over        int64\n",
       "Max_wicket_taken_1over      int64\n",
       "Extra_bowls_bowled        float64\n",
       "Min_run_given_1over         int64\n",
       "Min_run_scored_1over      float64\n",
       "Max_run_given_1over       float64\n",
       "extra_bowls_opponent        int64\n",
       "player_highest_run          int64\n",
       "Players_scored_zero         int64\n",
       "player_highest_wicket       int64\n",
       "dtype: object"
      ]
     },
     "execution_count": 57,
     "metadata": {},
     "output_type": "execute_result"
    }
   ],
   "source": [
    "df.dtypes[match_data.dtypes!='object']"
   ]
  },
  {
   "cell_type": "code",
   "execution_count": 58,
   "id": "89167551",
   "metadata": {},
   "outputs": [
    {
     "data": {
      "image/png": "[encoded data removed]",
      "text/plain": [
       "<Figure size 432x288 with 1 Axes>"
      ]
     },
     "metadata": {
      "needs_background": "light"
     },
     "output_type": "display_data"
    }
   ],
   "source": [
    "sns.boxplot(y='Avg_team_Age',x='Result', data=df);"
   ]
  },
  {
   "cell_type": "code",
   "execution_count": 59,
   "id": "20dce762",
   "metadata": {},
   "outputs": [
    {
     "data": {
      "image/png": "[encoded data removed]",
      "text/plain": [
       "<Figure size 576x432 with 1 Axes>"
      ]
     },
     "metadata": {
      "needs_background": "light"
     },
     "output_type": "display_data"
    }
   ],
   "source": [
    "plt.figure(figsize=(8,6))\n",
    "sns.boxplot(x='Result',y='Bowlers_in_team', data=df);"
   ]
  },
  {
   "cell_type": "code",
   "execution_count": 74,
   "id": "e2c7d260",
   "metadata": {},
   "outputs": [
    {
     "data": {
      "image/png": "[encoded data removed]",
      "text/plain": [
       "<Figure size 576x432 with 1 Axes>"
      ]
     },
     "metadata": {
      "needs_background": "light"
     },
     "output_type": "display_data"
    }
   ],
   "source": [
    "plt.figure(figsize=(8,6))\n",
    "sns.boxplot(x='Result',y='All_rounder_in_team', data=df);"
   ]
  },
  {
   "cell_type": "code",
   "execution_count": 75,
   "id": "0e548cbc",
   "metadata": {},
   "outputs": [
    {
     "data": {
      "image/png": "[encoded data removed]",
      "text/plain": [
       "<Figure size 576x432 with 1 Axes>"
      ]
     },
     "metadata": {
      "needs_background": "light"
     },
     "output_type": "display_data"
    }
   ],
   "source": [
    "plt.figure(figsize=(8,6))\n",
    "sns.boxplot(x='Result',y='Audience_number', data=df);"
   ]
  },
  {
   "cell_type": "code",
   "execution_count": 76,
   "id": "c93f9ec6",
   "metadata": {},
   "outputs": [
    {
     "data": {
      "image/png": "[encoded data removed]",
      "text/plain": [
       "<Figure size 576x432 with 1 Axes>"
      ]
     },
     "metadata": {
      "needs_background": "light"
     },
     "output_type": "display_data"
    }
   ],
   "source": [
    "plt.figure(figsize=(8,6))\n",
    "sns.boxplot(x='Result',y='Max_run_scored_1over', data=df);"
   ]
  },
  {
   "cell_type": "code",
   "execution_count": 77,
   "id": "0e6c8efb",
   "metadata": {},
   "outputs": [
    {
     "data": {
      "image/png": "[encoded data removed]",
      "text/plain": [
       "<Figure size 576x432 with 1 Axes>"
      ]
     },
     "metadata": {
      "needs_background": "light"
     },
     "output_type": "display_data"
    }
   ],
   "source": [
    "plt.figure(figsize=(8,6))\n",
    "sns.boxplot(x='Result',y='Max_wicket_taken_1over', data=df);"
   ]
  },
  {
   "cell_type": "code",
   "execution_count": 95,
   "id": "920acd83",
   "metadata": {},
   "outputs": [
    {
     "data": {
      "image/png": "[encoded data removed]",
      "text/plain": [
       "<Figure size 576x432 with 1 Axes>"
      ]
     },
     "metadata": {
      "needs_background": "light"
     },
     "output_type": "display_data"
    }
   ],
   "source": [
    "plt.figure(figsize=(8,6))\n",
    "sns.boxplot(x='Result',y='Extra_bowls_bowled', data=df);"
   ]
  },
  {
   "cell_type": "code",
   "execution_count": 79,
   "id": "19ef9c35",
   "metadata": {},
   "outputs": [
    {
     "data": {
      "image/png": "[encoded data removed]",
      "text/plain": [
       "<Figure size 576x432 with 1 Axes>"
      ]
     },
     "metadata": {
      "needs_background": "light"
     },
     "output_type": "display_data"
    }
   ],
   "source": [
    "plt.figure(figsize=(8,6))\n",
    "sns.boxplot(x='Result',y='Min_run_given_1over', data=df);"
   ]
  },
  {
   "cell_type": "code",
   "execution_count": 80,
   "id": "ebd140bf",
   "metadata": {},
   "outputs": [
    {
     "data": {
      "image/png": "[encoded data removed]",
      "text/plain": [
       "<Figure size 576x432 with 1 Axes>"
      ]
     },
     "metadata": {
      "needs_background": "light"
     },
     "output_type": "display_data"
    }
   ],
   "source": [
    "plt.figure(figsize=(8,6))\n",
    "sns.boxplot(x='Result',y='Min_run_scored_1over', data=df);"
   ]
  },
  {
   "cell_type": "code",
   "execution_count": 81,
   "id": "cbfb8725",
   "metadata": {},
   "outputs": [
    {
     "data": {
      "image/png": "[encoded data removed]",
      "text/plain": [
       "<Figure size 576x432 with 1 Axes>"
      ]
     },
     "metadata": {
      "needs_background": "light"
     },
     "output_type": "display_data"
    }
   ],
   "source": [
    "plt.figure(figsize=(8,6))\n",
    "sns.boxplot(x='Result',y='Max_run_given_1over', data=df);"
   ]
  },
  {
   "cell_type": "code",
   "execution_count": 82,
   "id": "e5c83436",
   "metadata": {},
   "outputs": [
    {
     "data": {
      "image/png": "[encoded data removed]",
      "text/plain": [
       "<Figure size 576x432 with 1 Axes>"
      ]
     },
     "metadata": {
      "needs_background": "light"
     },
     "output_type": "display_data"
    }
   ],
   "source": [
    "plt.figure(figsize=(8,6))\n",
    "sns.boxplot(x='Result',y='extra_bowls_opponent', data=df);"
   ]
  },
  {
   "cell_type": "code",
   "execution_count": 83,
   "id": "7ff7e6ff",
   "metadata": {},
   "outputs": [
    {
     "data": {
      "image/png": "[encoded data removed]",
      "text/plain": [
       "<Figure size 576x432 with 1 Axes>"
      ]
     },
     "metadata": {
      "needs_background": "light"
     },
     "output_type": "display_data"
    }
   ],
   "source": [
    "plt.figure(figsize=(8,6))\n",
    "sns.boxplot(x='Result',y='player_highest_run', data=df);"
   ]
  },
  {
   "cell_type": "markdown",
   "id": "415663ae",
   "metadata": {},
   "source": [
    "### For categorical Variable."
   ]
  },
  {
   "cell_type": "code",
   "execution_count": 85,
   "id": "ee664f2c",
   "metadata": {},
   "outputs": [
    {
     "data": {
      "text/plain": [
       "Result              object\n",
       "Match_light_type    object\n",
       "Match_format        object\n",
       "First_selection     object\n",
       "Opponent            object\n",
       "Season              object\n",
       "Offshore            object\n",
       "dtype: object"
      ]
     },
     "execution_count": 85,
     "metadata": {},
     "output_type": "execute_result"
    }
   ],
   "source": [
    "df.dtypes[df.dtypes=='object']"
   ]
  },
  {
   "cell_type": "code",
   "execution_count": 96,
   "id": "c7642689",
   "metadata": {},
   "outputs": [
    {
     "data": {
      "text/html": [
       "<div>\n",
       "<style scoped>\n",
       "    .dataframe tbody tr th:only-of-type {\n",
       "        vertical-align: middle;\n",
       "    }\n",
       "\n",
       "    .dataframe tbody tr th {\n",
       "        vertical-align: top;\n",
       "    }\n",
       "\n",
       "    .dataframe thead th {\n",
       "        text-align: right;\n",
       "    }\n",
       "</style>\n",
       "<table border=\"1\" class=\"dataframe\">\n",
       "  <thead>\n",
       "    <tr style=\"text-align: right;\">\n",
       "      <th>Result</th>\n",
       "      <th>Loss</th>\n",
       "      <th>Win</th>\n",
       "    </tr>\n",
       "    <tr>\n",
       "      <th>Match_light_type</th>\n",
       "      <th></th>\n",
       "      <th></th>\n",
       "    </tr>\n",
       "  </thead>\n",
       "  <tbody>\n",
       "    <tr>\n",
       "      <th>Day</th>\n",
       "      <td>314</td>\n",
       "      <td>1779</td>\n",
       "    </tr>\n",
       "    <tr>\n",
       "      <th>Day and Night</th>\n",
       "      <td>135</td>\n",
       "      <td>406</td>\n",
       "    </tr>\n",
       "    <tr>\n",
       "      <th>Night</th>\n",
       "      <td>24</td>\n",
       "      <td>272</td>\n",
       "    </tr>\n",
       "  </tbody>\n",
       "</table>\n",
       "</div>"
      ],
      "text/plain": [
       "Result            Loss   Win\n",
       "Match_light_type            \n",
       "Day                314  1779\n",
       "Day and Night      135   406\n",
       "Night               24   272"
      ]
     },
     "execution_count": 96,
     "metadata": {},
     "output_type": "execute_result"
    },
    {
     "data": {
      "image/png": "[encoded data removed]",
      "text/plain": [
       "<Figure size 432x288 with 1 Axes>"
      ]
     },
     "metadata": {
      "needs_background": "light"
     },
     "output_type": "display_data"
    }
   ],
   "source": [
    "sns.countplot(x=df.Match_light_type, hue=df.Result);\n",
    "pd.crosstab(index=df.Match_light_type,columns=df.Result)"
   ]
  },
  {
   "cell_type": "code",
   "execution_count": 97,
   "id": "28c92963",
   "metadata": {},
   "outputs": [
    {
     "data": {
      "text/html": [
       "<div>\n",
       "<style scoped>\n",
       "    .dataframe tbody tr th:only-of-type {\n",
       "        vertical-align: middle;\n",
       "    }\n",
       "\n",
       "    .dataframe tbody tr th {\n",
       "        vertical-align: top;\n",
       "    }\n",
       "\n",
       "    .dataframe thead th {\n",
       "        text-align: right;\n",
       "    }\n",
       "</style>\n",
       "<table border=\"1\" class=\"dataframe\">\n",
       "  <thead>\n",
       "    <tr style=\"text-align: right;\">\n",
       "      <th>Result</th>\n",
       "      <th>Loss</th>\n",
       "      <th>Win</th>\n",
       "    </tr>\n",
       "    <tr>\n",
       "      <th>Match_format</th>\n",
       "      <th></th>\n",
       "      <th></th>\n",
       "    </tr>\n",
       "  </thead>\n",
       "  <tbody>\n",
       "    <tr>\n",
       "      <th>ODI</th>\n",
       "      <td>269</td>\n",
       "      <td>1666</td>\n",
       "    </tr>\n",
       "    <tr>\n",
       "      <th>T20</th>\n",
       "      <td>180</td>\n",
       "      <td>690</td>\n",
       "    </tr>\n",
       "    <tr>\n",
       "      <th>Test</th>\n",
       "      <td>24</td>\n",
       "      <td>101</td>\n",
       "    </tr>\n",
       "  </tbody>\n",
       "</table>\n",
       "</div>"
      ],
      "text/plain": [
       "Result        Loss   Win\n",
       "Match_format            \n",
       "ODI            269  1666\n",
       "T20            180   690\n",
       "Test            24   101"
      ]
     },
     "execution_count": 97,
     "metadata": {},
     "output_type": "execute_result"
    },
    {
     "data": {
      "image/png": "[encoded data removed]",
      "text/plain": [
       "<Figure size 432x288 with 1 Axes>"
      ]
     },
     "metadata": {
      "needs_background": "light"
     },
     "output_type": "display_data"
    }
   ],
   "source": [
    "sns.countplot(x=df.Match_format, hue=df.Result);\n",
    "pd.crosstab(index=df.Match_format,columns=df.Result)"
   ]
  },
  {
   "cell_type": "code",
   "execution_count": 98,
   "id": "d38ae895",
   "metadata": {},
   "outputs": [
    {
     "data": {
      "text/html": [
       "<div>\n",
       "<style scoped>\n",
       "    .dataframe tbody tr th:only-of-type {\n",
       "        vertical-align: middle;\n",
       "    }\n",
       "\n",
       "    .dataframe tbody tr th {\n",
       "        vertical-align: top;\n",
       "    }\n",
       "\n",
       "    .dataframe thead th {\n",
       "        text-align: right;\n",
       "    }\n",
       "</style>\n",
       "<table border=\"1\" class=\"dataframe\">\n",
       "  <thead>\n",
       "    <tr style=\"text-align: right;\">\n",
       "      <th>Result</th>\n",
       "      <th>Loss</th>\n",
       "      <th>Win</th>\n",
       "    </tr>\n",
       "    <tr>\n",
       "      <th>First_selection</th>\n",
       "      <th></th>\n",
       "      <th></th>\n",
       "    </tr>\n",
       "  </thead>\n",
       "  <tbody>\n",
       "    <tr>\n",
       "      <th>Batting</th>\n",
       "      <td>172</td>\n",
       "      <td>977</td>\n",
       "    </tr>\n",
       "    <tr>\n",
       "      <th>Bowling</th>\n",
       "      <td>301</td>\n",
       "      <td>1480</td>\n",
       "    </tr>\n",
       "  </tbody>\n",
       "</table>\n",
       "</div>"
      ],
      "text/plain": [
       "Result           Loss   Win\n",
       "First_selection            \n",
       "Batting           172   977\n",
       "Bowling           301  1480"
      ]
     },
     "execution_count": 98,
     "metadata": {},
     "output_type": "execute_result"
    },
    {
     "data": {
      "image/png": "[encoded data removed]",
      "text/plain": [
       "<Figure size 432x288 with 1 Axes>"
      ]
     },
     "metadata": {
      "needs_background": "light"
     },
     "output_type": "display_data"
    }
   ],
   "source": [
    "sns.countplot(x=df.First_selection, hue=df.Result);\n",
    "pd.crosstab(index=df.First_selection,columns=df.Result)"
   ]
  },
  {
   "cell_type": "code",
   "execution_count": 89,
   "id": "064a6ed9",
   "metadata": {},
   "outputs": [
    {
     "data": {
      "text/html": [
       "<div>\n",
       "<style scoped>\n",
       "    .dataframe tbody tr th:only-of-type {\n",
       "        vertical-align: middle;\n",
       "    }\n",
       "\n",
       "    .dataframe tbody tr th {\n",
       "        vertical-align: top;\n",
       "    }\n",
       "\n",
       "    .dataframe thead th {\n",
       "        text-align: right;\n",
       "    }\n",
       "</style>\n",
       "<table border=\"1\" class=\"dataframe\">\n",
       "  <thead>\n",
       "    <tr style=\"text-align: right;\">\n",
       "      <th>Result</th>\n",
       "      <th>Loss</th>\n",
       "      <th>Win</th>\n",
       "    </tr>\n",
       "    <tr>\n",
       "      <th>Opponent</th>\n",
       "      <th></th>\n",
       "      <th></th>\n",
       "    </tr>\n",
       "  </thead>\n",
       "  <tbody>\n",
       "    <tr>\n",
       "      <th>Australia</th>\n",
       "      <td>24</td>\n",
       "      <td>80</td>\n",
       "    </tr>\n",
       "    <tr>\n",
       "      <th>Bangladesh</th>\n",
       "      <td>10</td>\n",
       "      <td>194</td>\n",
       "    </tr>\n",
       "    <tr>\n",
       "      <th>England</th>\n",
       "      <td>18</td>\n",
       "      <td>265</td>\n",
       "    </tr>\n",
       "    <tr>\n",
       "      <th>Kenya</th>\n",
       "      <td>93</td>\n",
       "      <td>483</td>\n",
       "    </tr>\n",
       "    <tr>\n",
       "      <th>Pakistan</th>\n",
       "      <td>17</td>\n",
       "      <td>236</td>\n",
       "    </tr>\n",
       "    <tr>\n",
       "      <th>South Africa</th>\n",
       "      <td>109</td>\n",
       "      <td>531</td>\n",
       "    </tr>\n",
       "    <tr>\n",
       "      <th>Srilanka</th>\n",
       "      <td>124</td>\n",
       "      <td>389</td>\n",
       "    </tr>\n",
       "    <tr>\n",
       "      <th>West Indies</th>\n",
       "      <td>4</td>\n",
       "      <td>154</td>\n",
       "    </tr>\n",
       "    <tr>\n",
       "      <th>Zimbabwe</th>\n",
       "      <td>66</td>\n",
       "      <td>97</td>\n",
       "    </tr>\n",
       "  </tbody>\n",
       "</table>\n",
       "</div>"
      ],
      "text/plain": [
       "Result        Loss  Win\n",
       "Opponent               \n",
       "Australia       24   80\n",
       "Bangladesh      10  194\n",
       "England         18  265\n",
       "Kenya           93  483\n",
       "Pakistan        17  236\n",
       "South Africa   109  531\n",
       "Srilanka       124  389\n",
       "West Indies      4  154\n",
       "Zimbabwe        66   97"
      ]
     },
     "execution_count": 89,
     "metadata": {},
     "output_type": "execute_result"
    },
    {
     "data": {
      "image/png": "[encoded data removed]",
      "text/plain": [
       "<Figure size 432x288 with 1 Axes>"
      ]
     },
     "metadata": {
      "needs_background": "light"
     },
     "output_type": "display_data"
    }
   ],
   "source": [
    "sns.countplot(x=match_data.Opponent, hue=match_data.Result);\n",
    "pd.crosstab(index=match_data.Opponent,columns=match_data.Result)"
   ]
  },
  {
   "cell_type": "code",
   "execution_count": 99,
   "id": "2506597a",
   "metadata": {},
   "outputs": [
    {
     "data": {
      "text/html": [
       "<div>\n",
       "<style scoped>\n",
       "    .dataframe tbody tr th:only-of-type {\n",
       "        vertical-align: middle;\n",
       "    }\n",
       "\n",
       "    .dataframe tbody tr th {\n",
       "        vertical-align: top;\n",
       "    }\n",
       "\n",
       "    .dataframe thead th {\n",
       "        text-align: right;\n",
       "    }\n",
       "</style>\n",
       "<table border=\"1\" class=\"dataframe\">\n",
       "  <thead>\n",
       "    <tr style=\"text-align: right;\">\n",
       "      <th>Result</th>\n",
       "      <th>Loss</th>\n",
       "      <th>Win</th>\n",
       "    </tr>\n",
       "    <tr>\n",
       "      <th>Season</th>\n",
       "      <th></th>\n",
       "      <th></th>\n",
       "    </tr>\n",
       "  </thead>\n",
       "  <tbody>\n",
       "    <tr>\n",
       "      <th>Rainy</th>\n",
       "      <td>170</td>\n",
       "      <td>1201</td>\n",
       "    </tr>\n",
       "    <tr>\n",
       "      <th>Summer</th>\n",
       "      <td>238</td>\n",
       "      <td>680</td>\n",
       "    </tr>\n",
       "    <tr>\n",
       "      <th>Winter</th>\n",
       "      <td>65</td>\n",
       "      <td>576</td>\n",
       "    </tr>\n",
       "  </tbody>\n",
       "</table>\n",
       "</div>"
      ],
      "text/plain": [
       "Result  Loss   Win\n",
       "Season            \n",
       "Rainy    170  1201\n",
       "Summer   238   680\n",
       "Winter    65   576"
      ]
     },
     "execution_count": 99,
     "metadata": {},
     "output_type": "execute_result"
    },
    {
     "data": {
      "image/png": "[encoded data removed]",
      "text/plain": [
       "<Figure size 432x288 with 1 Axes>"
      ]
     },
     "metadata": {
      "needs_background": "light"
     },
     "output_type": "display_data"
    }
   ],
   "source": [
    "sns.countplot(x=df.Season, hue=df.Result);\n",
    "pd.crosstab(index=df.Season,columns=df.Result)"
   ]
  },
  {
   "cell_type": "code",
   "execution_count": 100,
   "id": "ee6a30af",
   "metadata": {},
   "outputs": [
    {
     "data": {
      "text/html": [
       "<div>\n",
       "<style scoped>\n",
       "    .dataframe tbody tr th:only-of-type {\n",
       "        vertical-align: middle;\n",
       "    }\n",
       "\n",
       "    .dataframe tbody tr th {\n",
       "        vertical-align: top;\n",
       "    }\n",
       "\n",
       "    .dataframe thead th {\n",
       "        text-align: right;\n",
       "    }\n",
       "</style>\n",
       "<table border=\"1\" class=\"dataframe\">\n",
       "  <thead>\n",
       "    <tr style=\"text-align: right;\">\n",
       "      <th>Result</th>\n",
       "      <th>Loss</th>\n",
       "      <th>Win</th>\n",
       "    </tr>\n",
       "    <tr>\n",
       "      <th>Offshore</th>\n",
       "      <th></th>\n",
       "      <th></th>\n",
       "    </tr>\n",
       "  </thead>\n",
       "  <tbody>\n",
       "    <tr>\n",
       "      <th>No</th>\n",
       "      <td>227</td>\n",
       "      <td>1894</td>\n",
       "    </tr>\n",
       "    <tr>\n",
       "      <th>Yes</th>\n",
       "      <td>246</td>\n",
       "      <td>563</td>\n",
       "    </tr>\n",
       "  </tbody>\n",
       "</table>\n",
       "</div>"
      ],
      "text/plain": [
       "Result    Loss   Win\n",
       "Offshore            \n",
       "No         227  1894\n",
       "Yes        246   563"
      ]
     },
     "execution_count": 100,
     "metadata": {},
     "output_type": "execute_result"
    },
    {
     "data": {
      "image/png": "[encoded data removed]",
      "text/plain": [
       "<Figure size 432x288 with 1 Axes>"
      ]
     },
     "metadata": {
      "needs_background": "light"
     },
     "output_type": "display_data"
    }
   ],
   "source": [
    "sns.countplot(x=df.Offshore, hue=df.Result);\n",
    "pd.crosstab(index=df.Offshore,columns=df.Result)"
   ]
  },
  {
   "cell_type": "code",
   "execution_count": 92,
   "id": "9b0a7e5f",
   "metadata": {},
   "outputs": [
    {
     "data": {
      "text/plain": [
       "Win     2457\n",
       "Loss     473\n",
       "Name: Result, dtype: int64"
      ]
     },
     "execution_count": 92,
     "metadata": {},
     "output_type": "execute_result"
    }
   ],
   "source": [
    "df.Result.value_counts()"
   ]
  },
  {
   "cell_type": "code",
   "execution_count": null,
   "id": "dbbbfece",
   "metadata": {},
   "outputs": [],
   "source": []
  },
  {
   "cell_type": "code",
   "execution_count": null,
   "id": "767df47c",
   "metadata": {},
   "outputs": [],
   "source": []
  },
  {
   "cell_type": "code",
   "execution_count": null,
   "id": "7e69261f",
   "metadata": {},
   "outputs": [],
   "source": []
  },
  {
   "cell_type": "code",
   "execution_count": null,
   "id": "02e1b6ac",
   "metadata": {},
   "outputs": [],
   "source": []
  }
 ],
 "metadata": {
  "kernelspec": {
   "display_name": "Python 3 (ipykernel)",
   "language": "python",
   "name": "python3"
  },
  "language_info": {
   "codemirror_mode": {
    "name": "ipython",
    "version": 3
   },
   "file_extension": ".py",
   "mimetype": "text/x-python",
   "name": "python",
   "nbconvert_exporter": "python",
   "pygments_lexer": "ipython3",
   "version": "3.9.12"
  }
 },
 "nbformat": 4,
 "nbformat_minor": 5
}
